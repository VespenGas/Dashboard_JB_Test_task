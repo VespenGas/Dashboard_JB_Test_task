{
 "cells": [
  {
   "cell_type": "code",
   "execution_count": 1,
   "id": "01f24bab-c157-4b9f-9171-2efdacc7d0d3",
   "metadata": {},
   "outputs": [],
   "source": [
    "import polars as pl\n",
    "import numpy as np"
   ]
  },
  {
   "cell_type": "code",
   "execution_count": 2,
   "id": "421fd883-0794-4448-a94b-d0842c6ac8ab",
   "metadata": {},
   "outputs": [],
   "source": [
    "df = pl.read_excel('NIHMS1635539-supplement-1635539_Sup_tab_4.xlsx', sheet_name='S4B limma results')"
   ]
  },
  {
   "cell_type": "code",
   "execution_count": 3,
   "id": "1e875c2b-9276-4eef-aaa8-a927afed55d1",
   "metadata": {},
   "outputs": [],
   "source": [
    "df[0, 0] = 'ProteinID'"
   ]
  },
  {
   "cell_type": "code",
   "execution_count": 4,
   "id": "0a8137a3-abe1-4080-8407-becae0096892",
   "metadata": {},
   "outputs": [],
   "source": [
    "df.columns = df.row(0)"
   ]
  },
  {
   "cell_type": "code",
   "execution_count": 5,
   "id": "e89ba477-937b-4928-84e4-c5c003f77f7a",
   "metadata": {},
   "outputs": [],
   "source": [
    "df = df[1:, :]"
   ]
  },
  {
   "cell_type": "code",
   "execution_count": 6,
   "id": "a4639336-f190-4464-9a76-f6cf834c607a",
   "metadata": {},
   "outputs": [],
   "source": [
    "for column in df.columns:\n",
    "    try:\n",
    "        df = df.with_columns(\n",
    "            [\n",
    "                pl.col(column).cast(pl.Float64, strict=True),\n",
    "            ]\n",
    "        )\n",
    "    except:\n",
    "        pass\n"
   ]
  },
  {
   "cell_type": "code",
   "execution_count": 7,
   "id": "5668f7a1-bbc0-4f41-8c31-28c50d470514",
   "metadata": {},
   "outputs": [],
   "source": [
    "df = df.with_columns(\n",
    "    -np.log10(pl.col('adj.P.Val')).alias('adj.P.Val_neglog')\n",
    ")"
   ]
  },
  {
   "cell_type": "code",
   "execution_count": 8,
   "id": "7df1e739-c06c-4eb2-8dc2-326de47fc32a",
   "metadata": {},
   "outputs": [],
   "source": [
    "df = df.filter(pl.col('adj.P.Val') != 0)"
   ]
  },
  {
   "cell_type": "code",
   "execution_count": 9,
   "id": "71273b10-e735-4713-9657-44164f19577d",
   "metadata": {},
   "outputs": [
    {
     "data": {
      "text/html": [
       "<div><style>\n",
       ".dataframe > thead > tr,\n",
       ".dataframe > tbody > tr {\n",
       "  text-align: right;\n",
       "  white-space: pre-wrap;\n",
       "}\n",
       "</style>\n",
       "<small>shape: (1_305, 12)</small><table border=\"1\" class=\"dataframe\"><thead><tr><th>ProteinID</th><th>logFC</th><th>AveExpr</th><th>t</th><th>P.Value</th><th>adj.P.Val</th><th>B</th><th>TargetFullName</th><th>Target</th><th>EntrezGeneSymbol</th><th>Type</th><th>adj.P.Val_neglog</th></tr><tr><td>str</td><td>f64</td><td>f64</td><td>f64</td><td>f64</td><td>f64</td><td>f64</td><td>str</td><td>str</td><td>str</td><td>str</td><td>f64</td></tr></thead><tbody><tr><td>&quot;SOST.13101.60.3&quot;</td><td>1.192067</td><td>9.638651</td><td>10.877659</td><td>1.3273e-13</td><td>1.7455e-10</td><td>20.398976</td><td>&quot;Sclerostin&quot;</td><td>&quot;SOST&quot;</td><td>&quot;SOST&quot;</td><td>&quot;Protein&quot;</td><td>9.75809</td></tr><tr><td>&quot;GDF15.4374.45.2&quot;</td><td>0.873791</td><td>6.868192</td><td>8.630583</td><td>9.9379e-11</td><td>6.5342e-8</td><td>14.261364</td><td>&quot;Growth/differentiation factor …</td><td>&quot;MIC-1&quot;</td><td>&quot;GDF15&quot;</td><td>&quot;Protein&quot;</td><td>7.18481</td></tr><tr><td>&quot;SELL.4831.4.2&quot;</td><td>-0.527906</td><td>9.836412</td><td>-8.139312</td><td>4.5807e-10</td><td>2.0079e-7</td><td>12.826296</td><td>&quot;L-Selectin&quot;</td><td>&quot;sL-Selectin&quot;</td><td>&quot;SELL&quot;</td><td>&quot;Protein&quot;</td><td>6.697268</td></tr><tr><td>&quot;ADAMTS5.3168.8.2&quot;</td><td>0.471337</td><td>6.194154</td><td>6.193626</td><td>2.3805e-7</td><td>0.000078</td><td>6.911531</td><td>&quot;A disintegrin and metalloprote…</td><td>&quot;ADAMTS-5&quot;</td><td>&quot;ADAMTS5&quot;</td><td>&quot;Protein&quot;</td><td>4.106465</td></tr><tr><td>&quot;RET.3220.40.2&quot;</td><td>-0.616166</td><td>8.096716</td><td>-6.121638</td><td>3.0104e-7</td><td>0.000079</td><td>6.688751</td><td>&quot;Proto-oncogene tyrosine-protei…</td><td>&quot;RET&quot;</td><td>&quot;RET&quot;</td><td>&quot;Protein&quot;</td><td>4.10142</td></tr><tr><td>&hellip;</td><td>&hellip;</td><td>&hellip;</td><td>&hellip;</td><td>&hellip;</td><td>&hellip;</td><td>&hellip;</td><td>&hellip;</td><td>&hellip;</td><td>&hellip;</td><td>&hellip;</td><td>&hellip;</td></tr><tr><td>&quot;MFGE8.4455.89.2&quot;</td><td>-0.000651</td><td>9.752709</td><td>-0.004228</td><td>0.996647</td><td>0.997504</td><td>-6.394864</td><td>&quot;Lactadherin&quot;</td><td>&quot;MFGM&quot;</td><td>&quot;MFGE8&quot;</td><td>&quot;Protein&quot;</td><td>0.001085</td></tr><tr><td>&quot;KIF23.5228.25.2&quot;</td><td>0.000572</td><td>6.917314</td><td>0.003971</td><td>0.996851</td><td>0.997504</td><td>-6.394865</td><td>&quot;Kinesin-like protein KIF23&quot;</td><td>&quot;KIF23&quot;</td><td>&quot;KIF23&quot;</td><td>&quot;Protein&quot;</td><td>0.001085</td></tr><tr><td>&quot;FER.4220.39.2&quot;</td><td>0.00053</td><td>4.864584</td><td>0.003346</td><td>0.997347</td><td>0.997504</td><td>-6.394868</td><td>&quot;Tyrosine-protein kinase Fer&quot;</td><td>&quot;FER&quot;</td><td>&quot;FER&quot;</td><td>&quot;Protein&quot;</td><td>0.001085</td></tr><tr><td>&quot;AKT2.5360.9.2&quot;</td><td>-0.000448</td><td>10.620285</td><td>-0.003154</td><td>0.997499</td><td>0.997504</td><td>-6.394868</td><td>&quot;RAC-beta serine/threonine-prot…</td><td>&quot;PKB beta&quot;</td><td>&quot;AKT2&quot;</td><td>&quot;Protein&quot;</td><td>0.001085</td></tr><tr><td>&quot;LCORL.4304.18.2&quot;</td><td>-0.00089</td><td>5.335262</td><td>-0.003148</td><td>0.997504</td><td>0.997504</td><td>-6.394868</td><td>&quot;Ligand-dependent nuclear recep…</td><td>&quot;transcription factor MLR1, iso…</td><td>&quot;LCORL&quot;</td><td>&quot;Protein&quot;</td><td>0.001085</td></tr></tbody></table></div>"
      ],
      "text/plain": [
       "shape: (1_305, 12)\n",
       "┌────────────┬───────────┬───────────┬───────────┬───┬───────────┬───────────┬─────────┬───────────┐\n",
       "│ ProteinID  ┆ logFC     ┆ AveExpr   ┆ t         ┆ … ┆ Target    ┆ EntrezGen ┆ Type    ┆ adj.P.Val │\n",
       "│ ---        ┆ ---       ┆ ---       ┆ ---       ┆   ┆ ---       ┆ eSymbol   ┆ ---     ┆ _neglog   │\n",
       "│ str        ┆ f64       ┆ f64       ┆ f64       ┆   ┆ str       ┆ ---       ┆ str     ┆ ---       │\n",
       "│            ┆           ┆           ┆           ┆   ┆           ┆ str       ┆         ┆ f64       │\n",
       "╞════════════╪═══════════╪═══════════╪═══════════╪═══╪═══════════╪═══════════╪═════════╪═══════════╡\n",
       "│ SOST.13101 ┆ 1.192067  ┆ 9.638651  ┆ 10.877659 ┆ … ┆ SOST      ┆ SOST      ┆ Protein ┆ 9.75809   │\n",
       "│ .60.3      ┆           ┆           ┆           ┆   ┆           ┆           ┆         ┆           │\n",
       "│ GDF15.4374 ┆ 0.873791  ┆ 6.868192  ┆ 8.630583  ┆ … ┆ MIC-1     ┆ GDF15     ┆ Protein ┆ 7.18481   │\n",
       "│ .45.2      ┆           ┆           ┆           ┆   ┆           ┆           ┆         ┆           │\n",
       "│ SELL.4831. ┆ -0.527906 ┆ 9.836412  ┆ -8.139312 ┆ … ┆ sL-Select ┆ SELL      ┆ Protein ┆ 6.697268  │\n",
       "│ 4.2        ┆           ┆           ┆           ┆   ┆ in        ┆           ┆         ┆           │\n",
       "│ ADAMTS5.31 ┆ 0.471337  ┆ 6.194154  ┆ 6.193626  ┆ … ┆ ADAMTS-5  ┆ ADAMTS5   ┆ Protein ┆ 4.106465  │\n",
       "│ 68.8.2     ┆           ┆           ┆           ┆   ┆           ┆           ┆         ┆           │\n",
       "│ RET.3220.4 ┆ -0.616166 ┆ 8.096716  ┆ -6.121638 ┆ … ┆ RET       ┆ RET       ┆ Protein ┆ 4.10142   │\n",
       "│ 0.2        ┆           ┆           ┆           ┆   ┆           ┆           ┆         ┆           │\n",
       "│ …          ┆ …         ┆ …         ┆ …         ┆ … ┆ …         ┆ …         ┆ …       ┆ …         │\n",
       "│ MFGE8.4455 ┆ -0.000651 ┆ 9.752709  ┆ -0.004228 ┆ … ┆ MFGM      ┆ MFGE8     ┆ Protein ┆ 0.001085  │\n",
       "│ .89.2      ┆           ┆           ┆           ┆   ┆           ┆           ┆         ┆           │\n",
       "│ KIF23.5228 ┆ 0.000572  ┆ 6.917314  ┆ 0.003971  ┆ … ┆ KIF23     ┆ KIF23     ┆ Protein ┆ 0.001085  │\n",
       "│ .25.2      ┆           ┆           ┆           ┆   ┆           ┆           ┆         ┆           │\n",
       "│ FER.4220.3 ┆ 0.00053   ┆ 4.864584  ┆ 0.003346  ┆ … ┆ FER       ┆ FER       ┆ Protein ┆ 0.001085  │\n",
       "│ 9.2        ┆           ┆           ┆           ┆   ┆           ┆           ┆         ┆           │\n",
       "│ AKT2.5360. ┆ -0.000448 ┆ 10.620285 ┆ -0.003154 ┆ … ┆ PKB beta  ┆ AKT2      ┆ Protein ┆ 0.001085  │\n",
       "│ 9.2        ┆           ┆           ┆           ┆   ┆           ┆           ┆         ┆           │\n",
       "│ LCORL.4304 ┆ -0.00089  ┆ 5.335262  ┆ -0.003148 ┆ … ┆ transcrip ┆ LCORL     ┆ Protein ┆ 0.001085  │\n",
       "│ .18.2      ┆           ┆           ┆           ┆   ┆ tion      ┆           ┆         ┆           │\n",
       "│            ┆           ┆           ┆           ┆   ┆ factor    ┆           ┆         ┆           │\n",
       "│            ┆           ┆           ┆           ┆   ┆ MLR1,     ┆           ┆         ┆           │\n",
       "│            ┆           ┆           ┆           ┆   ┆ iso…      ┆           ┆         ┆           │\n",
       "└────────────┴───────────┴───────────┴───────────┴───┴───────────┴───────────┴─────────┴───────────┘"
      ]
     },
     "execution_count": 9,
     "metadata": {},
     "output_type": "execute_result"
    }
   ],
   "source": [
    "df"
   ]
  },
  {
   "cell_type": "code",
   "execution_count": 10,
   "id": "d64e8137-2623-43f5-8ad7-1e7d355d9691",
   "metadata": {},
   "outputs": [],
   "source": [
    "df_expandable = pl.read_excel('NIHMS1635539-supplement-1635539_Sup_tab_4.xlsx', sheet_name='S4A values')"
   ]
  },
  {
   "cell_type": "code",
   "execution_count": 11,
   "id": "9478754b-ae59-4a08-a956-38c28a2edd68",
   "metadata": {},
   "outputs": [],
   "source": [
    "df_expandable[0, 0] = 'ProteinID'"
   ]
  },
  {
   "cell_type": "code",
   "execution_count": 12,
   "id": "e3001b34-f701-4ef5-a4df-24c2b14f52ee",
   "metadata": {},
   "outputs": [],
   "source": [
    "df_expandable.columns = df_expandable.row(0)"
   ]
  },
  {
   "cell_type": "code",
   "execution_count": 13,
   "id": "5d110292-5810-4ec2-8f20-67c2485a5ce2",
   "metadata": {},
   "outputs": [],
   "source": [
    "df_expandable = df_expandable[1:, :]"
   ]
  },
  {
   "cell_type": "code",
   "execution_count": 14,
   "id": "aa502580-afa3-4f3a-857b-e2252db1d046",
   "metadata": {},
   "outputs": [],
   "source": [
    "for column in df_expandable.columns:\n",
    "    try:\n",
    "        df_expandable = df_expandable.with_columns(\n",
    "            [\n",
    "                pl.col(column).cast(pl.Float64, strict=True),\n",
    "            ]\n",
    "        )\n",
    "    except:\n",
    "        pass"
   ]
  },
  {
   "cell_type": "code",
   "execution_count": 15,
   "id": "fa50618c-0278-4e64-b13a-948014b3301d",
   "metadata": {},
   "outputs": [
    {
     "data": {
      "text/html": [
       "<div><style>\n",
       ".dataframe > thead > tr,\n",
       ".dataframe > tbody > tr {\n",
       "  text-align: right;\n",
       "  white-space: pre-wrap;\n",
       "}\n",
       "</style>\n",
       "<small>shape: (1_317, 80)</small><table border=\"1\" class=\"dataframe\"><thead><tr><th>ProteinID</th><th>SeqId</th><th>SomaId</th><th>TargetFullName</th><th>Target</th><th>UniProt</th><th>EntrezGeneID</th><th>EntrezGeneSymbol</th><th>Organism</th><th>Units</th><th>Type</th><th>Dilution</th><th>PlateScale.Reference</th><th>CalReference</th><th>Cal.Set.002</th><th>ColCheck</th><th>Cal.Set.001</th><th>Dilution2</th><th>Set002.H4.OD12.dup</th><th>Set002.H3.OD18</th><th>Set002.H2.OD12</th><th>Set002.H1.OD6</th><th>Set002.G4.Cal160378</th><th>Set002.G3.QC170255</th><th>Set002.G2.YD12.dup</th><th>Set002.G1.YD6</th><th>Set002.F4.YD12</th><th>Set002.F3.YD18</th><th>Set002.F1.QC170255</th><th>Set002.E4.PD7.dup</th><th>Set002.E3.OD16</th><th>Set002.E2.OD10</th><th>Set002.E1.OD4</th><th>Set002.D4.PD6.dup</th><th>Set002.D3.YD16</th><th>Set002.D2.YD10</th><th>Set002.D1.YD4</th><th>&hellip;</th><th>Set002.B2.Cal160378</th><th>Set002.B1.Cal160378</th><th>Set002.A4.YD20</th><th>Set002.A3.YD14</th><th>Set002.A2.YD8</th><th>Set002.A1.YD2</th><th>Set001.H4.OD11.dup</th><th>Set001.H3.OD17</th><th>Set001.H2.OD11</th><th>Set001.H1.OD5</th><th>Set001.G4.Cal160378</th><th>Set001.G3.QC170255</th><th>Set001.G2.YD11.dup</th><th>Set001.G1.YD5</th><th>Set001.F4.YD11</th><th>Set001.F3.YD17</th><th>Set001.F1.QC170255</th><th>Set001.E4.PD7</th><th>Set001.E3.OD15</th><th>Set001.E2.OD9</th><th>Set001.E1.OD3</th><th>Set001.D4.PD6</th><th>Set001.D3.YD15</th><th>Set001.D2.YD9</th><th>Set001.D1.YD3</th><th>Set001.C4.Cal160378</th><th>Set001.C3.Cal160378</th><th>Set001.C2.OD7</th><th>Set001.C1.OD1</th><th>Set001.B4.OD19</th><th>Set001.B3.OD13</th><th>Set001.B2.Cal160378</th><th>Set001.B1.Cal160378</th><th>Set001.A4.YD19</th><th>Set001.A3.YD21</th><th>Set001.A2.YD7</th><th>Set001.A1.YD1</th></tr><tr><td>str</td><td>str</td><td>str</td><td>str</td><td>str</td><td>str</td><td>str</td><td>str</td><td>str</td><td>str</td><td>str</td><td>f64</td><td>f64</td><td>f64</td><td>f64</td><td>str</td><td>f64</td><td>f64</td><td>f64</td><td>f64</td><td>f64</td><td>f64</td><td>f64</td><td>f64</td><td>f64</td><td>f64</td><td>f64</td><td>f64</td><td>f64</td><td>f64</td><td>f64</td><td>f64</td><td>f64</td><td>f64</td><td>f64</td><td>f64</td><td>f64</td><td>&hellip;</td><td>f64</td><td>f64</td><td>f64</td><td>f64</td><td>f64</td><td>f64</td><td>f64</td><td>f64</td><td>f64</td><td>f64</td><td>f64</td><td>f64</td><td>f64</td><td>f64</td><td>f64</td><td>f64</td><td>f64</td><td>f64</td><td>f64</td><td>f64</td><td>f64</td><td>f64</td><td>f64</td><td>f64</td><td>f64</td><td>f64</td><td>f64</td><td>f64</td><td>f64</td><td>f64</td><td>f64</td><td>f64</td><td>f64</td><td>f64</td><td>f64</td><td>f64</td><td>f64</td></tr></thead><tbody><tr><td>&quot;STUB1.10336.3.3&quot;</td><td>&quot;10336-3_3&quot;</td><td>&quot;SL019100&quot;</td><td>&quot;E3 ubiquitin-protein ligase CH…</td><td>&quot;CHIP&quot;</td><td>&quot;Q9UNE7&quot;</td><td>&quot;10273&quot;</td><td>&quot;STUB1&quot;</td><td>&quot;Human&quot;</td><td>&quot;RFU&quot;</td><td>&quot;Protein&quot;</td><td>40.0</td><td>1847.6</td><td>1847.6</td><td>1.439</td><td>&quot;FLAG&quot;</td><td>1.421</td><td>0.4</td><td>7.264912</td><td>7.873444</td><td>7.050937</td><td>6.546894</td><td>10.9499</td><td>8.726218</td><td>7.135453</td><td>7.204571</td><td>7.102238</td><td>9.461275</td><td>8.601399</td><td>7.377644</td><td>7.818263</td><td>7.219169</td><td>6.821455</td><td>7.249825</td><td>10.644217</td><td>7.063934</td><td>6.375039</td><td>&hellip;</td><td>10.932362</td><td>10.721014</td><td>7.152792</td><td>7.45697</td><td>7.336283</td><td>6.855491</td><td>6.941341</td><td>7.193772</td><td>6.854245</td><td>6.67948</td><td>10.85331</td><td>8.715619</td><td>6.79831</td><td>7.016808</td><td>6.696272</td><td>6.768184</td><td>8.698357</td><td>7.365448</td><td>7.724514</td><td>6.899659</td><td>6.906891</td><td>7.278914</td><td>10.002534</td><td>6.794416</td><td>7.096979</td><td>10.851437</td><td>10.691656</td><td>7.644577</td><td>6.338068</td><td>7.129283</td><td>6.449561</td><td>10.915357</td><td>10.702606</td><td>6.760221</td><td>6.402586</td><td>7.094869</td><td>6.630813</td></tr><tr><td>&quot;CEBPB.10337.83.3&quot;</td><td>&quot;10337-83_3&quot;</td><td>&quot;SL007136&quot;</td><td>&quot;CCAAT/enhancer-binding protein…</td><td>&quot;CEBPB&quot;</td><td>&quot;P17676&quot;</td><td>&quot;1051&quot;</td><td>&quot;CEBPB&quot;</td><td>&quot;Human&quot;</td><td>&quot;RFU&quot;</td><td>&quot;Protein&quot;</td><td>40.0</td><td>584.4</td><td>584.4</td><td>1.408</td><td>&quot;FLAG&quot;</td><td>1.429</td><td>0.4</td><td>10.144913</td><td>6.809929</td><td>9.918118</td><td>6.626439</td><td>9.454711</td><td>9.206282</td><td>7.081084</td><td>7.05745</td><td>7.137504</td><td>6.850499</td><td>9.063395</td><td>7.054197</td><td>6.97728</td><td>7.23362</td><td>6.656782</td><td>7.252665</td><td>6.836682</td><td>7.046578</td><td>6.559186</td><td>&hellip;</td><td>9.228819</td><td>9.024586</td><td>7.23936</td><td>7.145677</td><td>7.098032</td><td>6.663914</td><td>7.300124</td><td>7.128252</td><td>7.232661</td><td>7.387156</td><td>9.277055</td><td>9.269828</td><td>7.022368</td><td>6.966938</td><td>6.938991</td><td>6.857981</td><td>9.24579</td><td>7.037821</td><td>7.098032</td><td>7.178914</td><td>6.745506</td><td>7.199672</td><td>7.145677</td><td>6.962318</td><td>7.285402</td><td>9.190812</td><td>9.169173</td><td>6.645298</td><td>6.753551</td><td>7.188836</td><td>6.976134</td><td>9.255737</td><td>9.045487</td><td>6.882643</td><td>7.065012</td><td>6.827819</td><td>6.722466</td></tr><tr><td>&quot;ENO2.10339.48.3&quot;</td><td>&quot;10339-48_3&quot;</td><td>&quot;SL001731&quot;</td><td>&quot;Gamma-enolase&quot;</td><td>&quot;NSE&quot;</td><td>&quot;P09104&quot;</td><td>&quot;2026&quot;</td><td>&quot;ENO2&quot;</td><td>&quot;Human&quot;</td><td>&quot;RFU&quot;</td><td>&quot;Protein&quot;</td><td>40.0</td><td>17682.3</td><td>17682.3</td><td>0.91</td><td>&quot;PASS&quot;</td><td>1.016</td><td>0.4</td><td>12.232001</td><td>12.848506</td><td>12.232661</td><td>13.007798</td><td>13.991088</td><td>13.253523</td><td>11.854401</td><td>12.351685</td><td>11.85732</td><td>11.926036</td><td>13.269273</td><td>12.485301</td><td>12.382138</td><td>11.993717</td><td>12.232901</td><td>12.54054</td><td>12.000282</td><td>12.357332</td><td>12.312911</td><td>&hellip;</td><td>14.110565</td><td>14.140926</td><td>12.068913</td><td>12.213955</td><td>12.321336</td><td>11.91098</td><td>11.996226</td><td>12.51735</td><td>12.129025</td><td>12.085107</td><td>13.997188</td><td>13.392049</td><td>12.446928</td><td>12.527599</td><td>12.332904</td><td>12.343713</td><td>13.429237</td><td>12.48892</td><td>12.999013</td><td>12.588129</td><td>12.867182</td><td>12.636715</td><td>12.488895</td><td>12.133945</td><td>12.181804</td><td>14.061017</td><td>14.110018</td><td>13.473769</td><td>12.830971</td><td>12.78776</td><td>12.054129</td><td>14.276553</td><td>14.231341</td><td>12.147746</td><td>12.604229</td><td>11.991664</td><td>12.246741</td></tr><tr><td>&quot;PIAS4.10342.55.3&quot;</td><td>&quot;10342-55_3&quot;</td><td>&quot;SL019096&quot;</td><td>&quot;E3 SUMO-protein ligase PIAS4&quot;</td><td>&quot;PIAS4&quot;</td><td>&quot;Q8N2W9&quot;</td><td>&quot;51588&quot;</td><td>&quot;PIAS4&quot;</td><td>&quot;Human&quot;</td><td>&quot;RFU&quot;</td><td>&quot;Protein&quot;</td><td>40.0</td><td>491.8</td><td>491.8</td><td>2.587</td><td>&quot;FLAG&quot;</td><td>2.46</td><td>0.4</td><td>8.795066</td><td>6.973841</td><td>8.541097</td><td>6.790511</td><td>9.361725</td><td>8.636987</td><td>7.402586</td><td>6.925999</td><td>7.522778</td><td>7.046578</td><td>8.496654</td><td>6.962318</td><td>8.455738</td><td>8.559186</td><td>6.645298</td><td>7.043301</td><td>6.992089</td><td>7.361944</td><td>6.8009</td><td>&hellip;</td><td>9.021535</td><td>8.6886</td><td>7.139551</td><td>6.900867</td><td>7.08534</td><td>6.67101</td><td>7.448736</td><td>7.043301</td><td>7.311975</td><td>7.793766</td><td>8.997179</td><td>8.664269</td><td>7.444601</td><td>6.940167</td><td>7.319221</td><td>7.088523</td><td>8.531381</td><td>7.108524</td><td>6.979568</td><td>7.484622</td><td>6.934281</td><td>7.072535</td><td>7.156842</td><td>7.129283</td><td>8.250772</td><td>8.941928</td><td>8.889656</td><td>7.034524</td><td>6.973841</td><td>7.185867</td><td>7.210428</td><td>8.991522</td><td>8.595071</td><td>7.124121</td><td>7.158862</td><td>7.458612</td><td>6.754888</td></tr><tr><td>&quot;IL10RA.10344.334.3&quot;</td><td>&quot;10344-334_3&quot;</td><td>&quot;SL005173&quot;</td><td>&quot;Interleukin-10 receptor subuni…</td><td>&quot;IL-10 Ra&quot;</td><td>&quot;Q13651&quot;</td><td>&quot;3587&quot;</td><td>&quot;IL10RA&quot;</td><td>&quot;Human&quot;</td><td>&quot;RFU&quot;</td><td>&quot;Protein&quot;</td><td>1.0</td><td>1262.8</td><td>1262.8</td><td>1.068</td><td>&quot;PASS&quot;</td><td>1.034</td><td>0.01</td><td>9.040016</td><td>8.601771</td><td>9.110614</td><td>8.679128</td><td>10.30241</td><td>10.329908</td><td>8.677015</td><td>8.567576</td><td>8.655352</td><td>8.603626</td><td>10.325305</td><td>8.450799</td><td>8.500244</td><td>8.557272</td><td>9.042754</td><td>8.685099</td><td>8.567576</td><td>8.691046</td><td>8.57289</td><td>&hellip;</td><td>10.306631</td><td>10.285055</td><td>8.769507</td><td>8.809607</td><td>8.38284</td><td>8.32373</td><td>8.666757</td><td>8.619853</td><td>8.660709</td><td>8.661422</td><td>10.320349</td><td>10.180904</td><td>8.539159</td><td>8.279378</td><td>8.539159</td><td>8.430453</td><td>10.270646</td><td>8.284477</td><td>8.493055</td><td>8.595071</td><td>8.376342</td><td>8.486232</td><td>8.621686</td><td>8.673486</td><td>8.732676</td><td>10.157473</td><td>10.317639</td><td>8.301953</td><td>8.432959</td><td>8.530601</td><td>8.547666</td><td>10.278217</td><td>10.30241</td><td>8.478972</td><td>8.603255</td><td>8.317413</td><td>8.560333</td></tr><tr><td>&hellip;</td><td>&hellip;</td><td>&hellip;</td><td>&hellip;</td><td>&hellip;</td><td>&hellip;</td><td>&hellip;</td><td>&hellip;</td><td>&hellip;</td><td>&hellip;</td><td>&hellip;</td><td>&hellip;</td><td>&hellip;</td><td>&hellip;</td><td>&hellip;</td><td>&hellip;</td><td>&hellip;</td><td>&hellip;</td><td>&hellip;</td><td>&hellip;</td><td>&hellip;</td><td>&hellip;</td><td>&hellip;</td><td>&hellip;</td><td>&hellip;</td><td>&hellip;</td><td>&hellip;</td><td>&hellip;</td><td>&hellip;</td><td>&hellip;</td><td>&hellip;</td><td>&hellip;</td><td>&hellip;</td><td>&hellip;</td><td>&hellip;</td><td>&hellip;</td><td>&hellip;</td><td>&hellip;</td><td>&hellip;</td><td>&hellip;</td><td>&hellip;</td><td>&hellip;</td><td>&hellip;</td><td>&hellip;</td><td>&hellip;</td><td>&hellip;</td><td>&hellip;</td><td>&hellip;</td><td>&hellip;</td><td>&hellip;</td><td>&hellip;</td><td>&hellip;</td><td>&hellip;</td><td>&hellip;</td><td>&hellip;</td><td>&hellip;</td><td>&hellip;</td><td>&hellip;</td><td>&hellip;</td><td>&hellip;</td><td>&hellip;</td><td>&hellip;</td><td>&hellip;</td><td>&hellip;</td><td>&hellip;</td><td>&hellip;</td><td>&hellip;</td><td>&hellip;</td><td>&hellip;</td><td>&hellip;</td><td>&hellip;</td><td>&hellip;</td><td>&hellip;</td><td>&hellip;</td><td>&hellip;</td></tr><tr><td>&quot;SERPINF1.9211.19.3&quot;</td><td>&quot;9211-19_3&quot;</td><td>&quot;SL003066&quot;</td><td>&quot;Pigment epithelium-derived fac…</td><td>&quot;PEDF&quot;</td><td>&quot;P36955&quot;</td><td>&quot;5176&quot;</td><td>&quot;SERPINF1&quot;</td><td>&quot;Human&quot;</td><td>&quot;RFU&quot;</td><td>&quot;Protein&quot;</td><td>0.005</td><td>34889.9</td><td>34889.9</td><td>1.052</td><td>&quot;PASS&quot;</td><td>1.112</td><td>0.00005</td><td>13.821166</td><td>13.569844</td><td>13.899886</td><td>13.695391</td><td>14.909134</td><td>15.169858</td><td>13.651635</td><td>13.521686</td><td>13.613076</td><td>13.772727</td><td>15.169858</td><td>13.727644</td><td>13.825764</td><td>13.716016</td><td>13.935939</td><td>13.712634</td><td>13.856202</td><td>13.656112</td><td>14.002393</td><td>&hellip;</td><td>15.173654</td><td>15.09634</td><td>13.717462</td><td>13.783888</td><td>13.913871</td><td>13.858836</td><td>13.886849</td><td>13.700071</td><td>13.823507</td><td>13.710946</td><td>15.002283</td><td>15.213602</td><td>13.855443</td><td>14.034911</td><td>13.776371</td><td>13.766374</td><td>15.162619</td><td>13.722381</td><td>13.72543</td><td>13.659717</td><td>13.567386</td><td>13.815443</td><td>13.599111</td><td>14.022923</td><td>13.646109</td><td>15.073192</td><td>15.151476</td><td>14.096625</td><td>13.882395</td><td>13.689594</td><td>14.237292</td><td>15.140195</td><td>15.090522</td><td>13.764436</td><td>13.927565</td><td>13.713881</td><td>13.82268</td></tr><tr><td>&quot;CTSF.9212.22.3&quot;</td><td>&quot;9212-22_3&quot;</td><td>&quot;SL008381&quot;</td><td>&quot;Cathepsin F&quot;</td><td>&quot;CATF&quot;</td><td>&quot;Q9UBX1&quot;</td><td>&quot;8722&quot;</td><td>&quot;CTSF&quot;</td><td>&quot;Human&quot;</td><td>&quot;RFU&quot;</td><td>&quot;Protein&quot;</td><td>1.0</td><td>1616.2</td><td>1616.2</td><td>1.193</td><td>&quot;PASS&quot;</td><td>1.174</td><td>0.01</td><td>9.086136</td><td>9.212861</td><td>8.997462</td><td>9.493455</td><td>10.821455</td><td>10.616273</td><td>9.942221</td><td>9.174426</td><td>9.979425</td><td>9.268425</td><td>10.605294</td><td>8.707014</td><td>9.090906</td><td>9.010388</td><td>8.927185</td><td>9.107479</td><td>9.024586</td><td>9.075212</td><td>9.216746</td><td>&hellip;</td><td>10.682644</td><td>10.642142</td><td>9.430034</td><td>8.934575</td><td>8.924516</td><td>9.29094</td><td>9.319672</td><td>9.789371</td><td>9.236732</td><td>9.159871</td><td>10.705719</td><td>10.576673</td><td>9.429407</td><td>9.029563</td><td>9.400879</td><td>9.28702</td><td>10.567481</td><td>8.678424</td><td>9.144658</td><td>9.746346</td><td>9.067434</td><td>9.103288</td><td>8.844549</td><td>8.386294</td><td>9.470049</td><td>10.65714</td><td>10.669948</td><td>9.13776</td><td>8.972405</td><td>9.069047</td><td>9.246266</td><td>10.65839</td><td>10.645478</td><td>8.941341</td><td>9.697141</td><td>8.90147</td><td>8.822411</td></tr><tr><td>&quot;FTCD.9213.24.3&quot;</td><td>&quot;9213-24_3&quot;</td><td>&quot;SL018900&quot;</td><td>&quot;Formimidoyltransferase-cyclode…</td><td>&quot;FTCD&quot;</td><td>&quot;O95954&quot;</td><td>&quot;10841&quot;</td><td>&quot;FTCD&quot;</td><td>&quot;Human&quot;</td><td>&quot;RFU&quot;</td><td>&quot;Protein&quot;</td><td>40.0</td><td>3912.6</td><td>3912.6</td><td>3.196</td><td>&quot;FLAG&quot;</td><td>1.493</td><td>0.4</td><td>12.591639</td><td>11.417325</td><td>12.517546</td><td>10.547666</td><td>11.604275</td><td>12.640177</td><td>11.227014</td><td>11.868089</td><td>11.244364</td><td>13.96737</td><td>12.169612</td><td>12.060628</td><td>13.529479</td><td>10.637802</td><td>13.368752</td><td>12.315659</td><td>11.32946</td><td>12.12438</td><td>11.45049</td><td>&hellip;</td><td>12.09421</td><td>11.933912</td><td>12.855083</td><td>12.405248</td><td>11.727538</td><td>13.547039</td><td>11.934354</td><td>11.316847</td><td>11.854284</td><td>10.477151</td><td>11.933912</td><td>10.725707</td><td>9.886611</td><td>13.591639</td><td>9.754721</td><td>10.855491</td><td>10.754052</td><td>11.03418</td><td>9.418063</td><td>10.187352</td><td>9.284246</td><td>11.251187</td><td>10.280075</td><td>10.087595</td><td>10.033561</td><td>12.510937</td><td>12.163052</td><td>10.027353</td><td>10.543322</td><td>10.219411</td><td>11.838455</td><td>10.904409</td><td>11.8969</td><td>10.534789</td><td>10.639612</td><td>13.924191</td><td>10.66791</td></tr><tr><td>&quot;USP25.9215.117.3&quot;</td><td>&quot;9215-117_3&quot;</td><td>&quot;SL018947&quot;</td><td>&quot;Ubiquitin carboxyl-terminal hy…</td><td>&quot;UBP25&quot;</td><td>&quot;Q9UHP3&quot;</td><td>&quot;29761&quot;</td><td>&quot;USP25&quot;</td><td>&quot;Human&quot;</td><td>&quot;RFU&quot;</td><td>&quot;Protein&quot;</td><td>40.0</td><td>651.6</td><td>651.6</td><td>1.226</td><td>&quot;PASS&quot;</td><td>1.232</td><td>0.4</td><td>7.153805</td><td>7.444601</td><td>7.093814</td><td>7.149747</td><td>9.51432</td><td>9.307429</td><td>7.143638</td><td>7.181898</td><td>7.213347</td><td>7.203593</td><td>9.254084</td><td>6.976134</td><td>7.103288</td><td>7.154818</td><td>7.525129</td><td>7.346957</td><td>7.425426</td><td>7.066089</td><td>7.153805</td><td>&hellip;</td><td>9.347843</td><td>9.338514</td><td>7.568336</td><td>7.412782</td><td>7.022368</td><td>6.846744</td><td>7.584963</td><td>7.16088</td><td>7.590961</td><td>7.802839</td><td>9.327553</td><td>9.259743</td><td>7.237449</td><td>8.031219</td><td>7.2182</td><td>7.068241</td><td>9.284246</td><td>7.032321</td><td>7.252665</td><td>8.396605</td><td>7.119979</td><td>7.284477</td><td>7.047669</td><td>7.23936</td><td>7.189825</td><td>9.335614</td><td>9.39853</td><td>7.005625</td><td>7.699052</td><td>7.578939</td><td>8.601771</td><td>9.347843</td><td>9.36304</td><td>7.293702</td><td>7.206526</td><td>7.101188</td><td>7.509379</td></tr><tr><td>&quot;PLXNB2.9216.100.3&quot;</td><td>&quot;9216-100_3&quot;</td><td>&quot;SL009948&quot;</td><td>&quot;Plexin-B2&quot;</td><td>&quot;PLXB2&quot;</td><td>&quot;O15031&quot;</td><td>&quot;23654&quot;</td><td>&quot;PLXNB2&quot;</td><td>&quot;Human&quot;</td><td>&quot;RFU&quot;</td><td>&quot;Protein&quot;</td><td>1.0</td><td>2267.0</td><td>2267.0</td><td>1.233</td><td>&quot;PASS&quot;</td><td>1.22</td><td>0.01</td><td>9.801223</td><td>9.513728</td><td>9.711151</td><td>9.553053</td><td>11.134298</td><td>11.138784</td><td>9.620403</td><td>9.744329</td><td>9.669239</td><td>9.702519</td><td>11.141724</td><td>9.649077</td><td>9.619853</td><td>9.728601</td><td>9.456354</td><td>9.862327</td><td>9.764208</td><td>9.724684</td><td>9.809607</td><td>&hellip;</td><td>11.141213</td><td>11.14765</td><td>9.654994</td><td>10.069315</td><td>9.933838</td><td>9.616733</td><td>9.418485</td><td>9.968379</td><td>9.397889</td><td>10.694967</td><td>11.136927</td><td>11.055757</td><td>9.413416</td><td>9.392961</td><td>9.414474</td><td>9.494056</td><td>11.067905</td><td>9.573079</td><td>10.011647</td><td>10.172428</td><td>9.535664</td><td>9.846117</td><td>9.470862</td><td>9.306062</td><td>10.506208</td><td>11.142618</td><td>11.154881</td><td>9.81025</td><td>9.935018</td><td>9.841722</td><td>9.892239</td><td>11.146569</td><td>11.164718</td><td>9.442529</td><td>9.500244</td><td>9.530211</td><td>9.456149</td></tr></tbody></table></div>"
      ],
      "text/plain": [
       "shape: (1_317, 80)\n",
       "┌───────────┬───────────┬──────────┬───────────┬───┬───────────┬───────────┬───────────┬───────────┐\n",
       "│ ProteinID ┆ SeqId     ┆ SomaId   ┆ TargetFul ┆ … ┆ Set001.A4 ┆ Set001.A3 ┆ Set001.A2 ┆ Set001.A1 │\n",
       "│ ---       ┆ ---       ┆ ---      ┆ lName     ┆   ┆ .YD19     ┆ .YD21     ┆ .YD7      ┆ .YD1      │\n",
       "│ str       ┆ str       ┆ str      ┆ ---       ┆   ┆ ---       ┆ ---       ┆ ---       ┆ ---       │\n",
       "│           ┆           ┆          ┆ str       ┆   ┆ f64       ┆ f64       ┆ f64       ┆ f64       │\n",
       "╞═══════════╪═══════════╪══════════╪═══════════╪═══╪═══════════╪═══════════╪═══════════╪═══════════╡\n",
       "│ STUB1.103 ┆ 10336-3_3 ┆ SL019100 ┆ E3 ubiqui ┆ … ┆ 6.760221  ┆ 6.402586  ┆ 7.094869  ┆ 6.630813  │\n",
       "│ 36.3.3    ┆           ┆          ┆ tin-prote ┆   ┆           ┆           ┆           ┆           │\n",
       "│           ┆           ┆          ┆ in ligase ┆   ┆           ┆           ┆           ┆           │\n",
       "│           ┆           ┆          ┆ CH…       ┆   ┆           ┆           ┆           ┆           │\n",
       "│ CEBPB.103 ┆ 10337-83_ ┆ SL007136 ┆ CCAAT/enh ┆ … ┆ 6.882643  ┆ 7.065012  ┆ 6.827819  ┆ 6.722466  │\n",
       "│ 37.83.3   ┆ 3         ┆          ┆ ancer-bin ┆   ┆           ┆           ┆           ┆           │\n",
       "│           ┆           ┆          ┆ ding      ┆   ┆           ┆           ┆           ┆           │\n",
       "│           ┆           ┆          ┆ protein…  ┆   ┆           ┆           ┆           ┆           │\n",
       "│ ENO2.1033 ┆ 10339-48_ ┆ SL001731 ┆ Gamma-eno ┆ … ┆ 12.147746 ┆ 12.604229 ┆ 11.991664 ┆ 12.246741 │\n",
       "│ 9.48.3    ┆ 3         ┆          ┆ lase      ┆   ┆           ┆           ┆           ┆           │\n",
       "│ PIAS4.103 ┆ 10342-55_ ┆ SL019096 ┆ E3 SUMO-p ┆ … ┆ 7.124121  ┆ 7.158862  ┆ 7.458612  ┆ 6.754888  │\n",
       "│ 42.55.3   ┆ 3         ┆          ┆ rotein    ┆   ┆           ┆           ┆           ┆           │\n",
       "│           ┆           ┆          ┆ ligase    ┆   ┆           ┆           ┆           ┆           │\n",
       "│           ┆           ┆          ┆ PIAS4     ┆   ┆           ┆           ┆           ┆           │\n",
       "│ IL10RA.10 ┆ 10344-334 ┆ SL005173 ┆ Interleuk ┆ … ┆ 8.478972  ┆ 8.603255  ┆ 8.317413  ┆ 8.560333  │\n",
       "│ 344.334.3 ┆ _3        ┆          ┆ in-10     ┆   ┆           ┆           ┆           ┆           │\n",
       "│           ┆           ┆          ┆ receptor  ┆   ┆           ┆           ┆           ┆           │\n",
       "│           ┆           ┆          ┆ subuni…   ┆   ┆           ┆           ┆           ┆           │\n",
       "│ …         ┆ …         ┆ …        ┆ …         ┆ … ┆ …         ┆ …         ┆ …         ┆ …         │\n",
       "│ SERPINF1. ┆ 9211-19_3 ┆ SL003066 ┆ Pigment   ┆ … ┆ 13.764436 ┆ 13.927565 ┆ 13.713881 ┆ 13.82268  │\n",
       "│ 9211.19.3 ┆           ┆          ┆ epitheliu ┆   ┆           ┆           ┆           ┆           │\n",
       "│           ┆           ┆          ┆ m-derived ┆   ┆           ┆           ┆           ┆           │\n",
       "│           ┆           ┆          ┆ fac…      ┆   ┆           ┆           ┆           ┆           │\n",
       "│ CTSF.9212 ┆ 9212-22_3 ┆ SL008381 ┆ Cathepsin ┆ … ┆ 8.941341  ┆ 9.697141  ┆ 8.90147   ┆ 8.822411  │\n",
       "│ .22.3     ┆           ┆          ┆ F         ┆   ┆           ┆           ┆           ┆           │\n",
       "│ FTCD.9213 ┆ 9213-24_3 ┆ SL018900 ┆ Formimido ┆ … ┆ 10.534789 ┆ 10.639612 ┆ 13.924191 ┆ 10.66791  │\n",
       "│ .24.3     ┆           ┆          ┆ yltransfe ┆   ┆           ┆           ┆           ┆           │\n",
       "│           ┆           ┆          ┆ rase-cycl ┆   ┆           ┆           ┆           ┆           │\n",
       "│           ┆           ┆          ┆ ode…      ┆   ┆           ┆           ┆           ┆           │\n",
       "│ USP25.921 ┆ 9215-117_ ┆ SL018947 ┆ Ubiquitin ┆ … ┆ 7.293702  ┆ 7.206526  ┆ 7.101188  ┆ 7.509379  │\n",
       "│ 5.117.3   ┆ 3         ┆          ┆ carboxyl- ┆   ┆           ┆           ┆           ┆           │\n",
       "│           ┆           ┆          ┆ terminal  ┆   ┆           ┆           ┆           ┆           │\n",
       "│           ┆           ┆          ┆ hy…       ┆   ┆           ┆           ┆           ┆           │\n",
       "│ PLXNB2.92 ┆ 9216-100_ ┆ SL009948 ┆ Plexin-B2 ┆ … ┆ 9.442529  ┆ 9.500244  ┆ 9.530211  ┆ 9.456149  │\n",
       "│ 16.100.3  ┆ 3         ┆          ┆           ┆   ┆           ┆           ┆           ┆           │\n",
       "└───────────┴───────────┴──────────┴───────────┴───┴───────────┴───────────┴───────────┴───────────┘"
      ]
     },
     "execution_count": 15,
     "metadata": {},
     "output_type": "execute_result"
    }
   ],
   "source": [
    "df_expandable"
   ]
  },
  {
   "cell_type": "code",
   "execution_count": 21,
   "id": "ba887e63-8c81-4ed4-8cd9-737b5211c51c",
   "metadata": {},
   "outputs": [
    {
     "data": {
      "text/html": [
       "<div><style>\n",
       ".dataframe > thead > tr,\n",
       ".dataframe > tbody > tr {\n",
       "  text-align: right;\n",
       "  white-space: pre-wrap;\n",
       "}\n",
       "</style>\n",
       "<small>shape: (1_305, 12)</small><table border=\"1\" class=\"dataframe\"><thead><tr><th>ProteinID</th><th>logFC</th><th>AveExpr</th><th>t</th><th>P.Value</th><th>adj.P.Val</th><th>B</th><th>TargetFullName</th><th>Target</th><th>EntrezGeneSymbol</th><th>Type</th><th>adj.P.Val_neglog</th></tr><tr><td>str</td><td>f64</td><td>f64</td><td>f64</td><td>f64</td><td>f64</td><td>f64</td><td>str</td><td>str</td><td>str</td><td>str</td><td>f64</td></tr></thead><tbody><tr><td>&quot;SOST.13101.60.3&quot;</td><td>1.192067</td><td>9.638651</td><td>10.877659</td><td>1.3273e-13</td><td>1.7455e-10</td><td>20.398976</td><td>&quot;Sclerostin&quot;</td><td>&quot;SOST&quot;</td><td>&quot;SOST&quot;</td><td>&quot;Protein&quot;</td><td>9.75809</td></tr><tr><td>&quot;GDF15.4374.45.2&quot;</td><td>0.873791</td><td>6.868192</td><td>8.630583</td><td>9.9379e-11</td><td>6.5342e-8</td><td>14.261364</td><td>&quot;Growth/differentiation factor …</td><td>&quot;MIC-1&quot;</td><td>&quot;GDF15&quot;</td><td>&quot;Protein&quot;</td><td>7.18481</td></tr><tr><td>&quot;SELL.4831.4.2&quot;</td><td>-0.527906</td><td>9.836412</td><td>-8.139312</td><td>4.5807e-10</td><td>2.0079e-7</td><td>12.826296</td><td>&quot;L-Selectin&quot;</td><td>&quot;sL-Selectin&quot;</td><td>&quot;SELL&quot;</td><td>&quot;Protein&quot;</td><td>6.697268</td></tr><tr><td>&quot;ADAMTS5.3168.8.2&quot;</td><td>0.471337</td><td>6.194154</td><td>6.193626</td><td>2.3805e-7</td><td>0.000078</td><td>6.911531</td><td>&quot;A disintegrin and metalloprote…</td><td>&quot;ADAMTS-5&quot;</td><td>&quot;ADAMTS5&quot;</td><td>&quot;Protein&quot;</td><td>4.106465</td></tr><tr><td>&quot;RET.3220.40.2&quot;</td><td>-0.616166</td><td>8.096716</td><td>-6.121638</td><td>3.0104e-7</td><td>0.000079</td><td>6.688751</td><td>&quot;Proto-oncogene tyrosine-protei…</td><td>&quot;RET&quot;</td><td>&quot;RET&quot;</td><td>&quot;Protein&quot;</td><td>4.10142</td></tr><tr><td>&hellip;</td><td>&hellip;</td><td>&hellip;</td><td>&hellip;</td><td>&hellip;</td><td>&hellip;</td><td>&hellip;</td><td>&hellip;</td><td>&hellip;</td><td>&hellip;</td><td>&hellip;</td><td>&hellip;</td></tr><tr><td>&quot;MFGE8.4455.89.2&quot;</td><td>-0.000651</td><td>9.752709</td><td>-0.004228</td><td>0.996647</td><td>0.997504</td><td>-6.394864</td><td>&quot;Lactadherin&quot;</td><td>&quot;MFGM&quot;</td><td>&quot;MFGE8&quot;</td><td>&quot;Protein&quot;</td><td>0.001085</td></tr><tr><td>&quot;KIF23.5228.25.2&quot;</td><td>0.000572</td><td>6.917314</td><td>0.003971</td><td>0.996851</td><td>0.997504</td><td>-6.394865</td><td>&quot;Kinesin-like protein KIF23&quot;</td><td>&quot;KIF23&quot;</td><td>&quot;KIF23&quot;</td><td>&quot;Protein&quot;</td><td>0.001085</td></tr><tr><td>&quot;FER.4220.39.2&quot;</td><td>0.00053</td><td>4.864584</td><td>0.003346</td><td>0.997347</td><td>0.997504</td><td>-6.394868</td><td>&quot;Tyrosine-protein kinase Fer&quot;</td><td>&quot;FER&quot;</td><td>&quot;FER&quot;</td><td>&quot;Protein&quot;</td><td>0.001085</td></tr><tr><td>&quot;AKT2.5360.9.2&quot;</td><td>-0.000448</td><td>10.620285</td><td>-0.003154</td><td>0.997499</td><td>0.997504</td><td>-6.394868</td><td>&quot;RAC-beta serine/threonine-prot…</td><td>&quot;PKB beta&quot;</td><td>&quot;AKT2&quot;</td><td>&quot;Protein&quot;</td><td>0.001085</td></tr><tr><td>&quot;LCORL.4304.18.2&quot;</td><td>-0.00089</td><td>5.335262</td><td>-0.003148</td><td>0.997504</td><td>0.997504</td><td>-6.394868</td><td>&quot;Ligand-dependent nuclear recep…</td><td>&quot;transcription factor MLR1, iso…</td><td>&quot;LCORL&quot;</td><td>&quot;Protein&quot;</td><td>0.001085</td></tr></tbody></table></div>"
      ],
      "text/plain": [
       "shape: (1_305, 12)\n",
       "┌────────────┬───────────┬───────────┬───────────┬───┬───────────┬───────────┬─────────┬───────────┐\n",
       "│ ProteinID  ┆ logFC     ┆ AveExpr   ┆ t         ┆ … ┆ Target    ┆ EntrezGen ┆ Type    ┆ adj.P.Val │\n",
       "│ ---        ┆ ---       ┆ ---       ┆ ---       ┆   ┆ ---       ┆ eSymbol   ┆ ---     ┆ _neglog   │\n",
       "│ str        ┆ f64       ┆ f64       ┆ f64       ┆   ┆ str       ┆ ---       ┆ str     ┆ ---       │\n",
       "│            ┆           ┆           ┆           ┆   ┆           ┆ str       ┆         ┆ f64       │\n",
       "╞════════════╪═══════════╪═══════════╪═══════════╪═══╪═══════════╪═══════════╪═════════╪═══════════╡\n",
       "│ SOST.13101 ┆ 1.192067  ┆ 9.638651  ┆ 10.877659 ┆ … ┆ SOST      ┆ SOST      ┆ Protein ┆ 9.75809   │\n",
       "│ .60.3      ┆           ┆           ┆           ┆   ┆           ┆           ┆         ┆           │\n",
       "│ GDF15.4374 ┆ 0.873791  ┆ 6.868192  ┆ 8.630583  ┆ … ┆ MIC-1     ┆ GDF15     ┆ Protein ┆ 7.18481   │\n",
       "│ .45.2      ┆           ┆           ┆           ┆   ┆           ┆           ┆         ┆           │\n",
       "│ SELL.4831. ┆ -0.527906 ┆ 9.836412  ┆ -8.139312 ┆ … ┆ sL-Select ┆ SELL      ┆ Protein ┆ 6.697268  │\n",
       "│ 4.2        ┆           ┆           ┆           ┆   ┆ in        ┆           ┆         ┆           │\n",
       "│ ADAMTS5.31 ┆ 0.471337  ┆ 6.194154  ┆ 6.193626  ┆ … ┆ ADAMTS-5  ┆ ADAMTS5   ┆ Protein ┆ 4.106465  │\n",
       "│ 68.8.2     ┆           ┆           ┆           ┆   ┆           ┆           ┆         ┆           │\n",
       "│ RET.3220.4 ┆ -0.616166 ┆ 8.096716  ┆ -6.121638 ┆ … ┆ RET       ┆ RET       ┆ Protein ┆ 4.10142   │\n",
       "│ 0.2        ┆           ┆           ┆           ┆   ┆           ┆           ┆         ┆           │\n",
       "│ …          ┆ …         ┆ …         ┆ …         ┆ … ┆ …         ┆ …         ┆ …       ┆ …         │\n",
       "│ MFGE8.4455 ┆ -0.000651 ┆ 9.752709  ┆ -0.004228 ┆ … ┆ MFGM      ┆ MFGE8     ┆ Protein ┆ 0.001085  │\n",
       "│ .89.2      ┆           ┆           ┆           ┆   ┆           ┆           ┆         ┆           │\n",
       "│ KIF23.5228 ┆ 0.000572  ┆ 6.917314  ┆ 0.003971  ┆ … ┆ KIF23     ┆ KIF23     ┆ Protein ┆ 0.001085  │\n",
       "│ .25.2      ┆           ┆           ┆           ┆   ┆           ┆           ┆         ┆           │\n",
       "│ FER.4220.3 ┆ 0.00053   ┆ 4.864584  ┆ 0.003346  ┆ … ┆ FER       ┆ FER       ┆ Protein ┆ 0.001085  │\n",
       "│ 9.2        ┆           ┆           ┆           ┆   ┆           ┆           ┆         ┆           │\n",
       "│ AKT2.5360. ┆ -0.000448 ┆ 10.620285 ┆ -0.003154 ┆ … ┆ PKB beta  ┆ AKT2      ┆ Protein ┆ 0.001085  │\n",
       "│ 9.2        ┆           ┆           ┆           ┆   ┆           ┆           ┆         ┆           │\n",
       "│ LCORL.4304 ┆ -0.00089  ┆ 5.335262  ┆ -0.003148 ┆ … ┆ transcrip ┆ LCORL     ┆ Protein ┆ 0.001085  │\n",
       "│ .18.2      ┆           ┆           ┆           ┆   ┆ tion      ┆           ┆         ┆           │\n",
       "│            ┆           ┆           ┆           ┆   ┆ factor    ┆           ┆         ┆           │\n",
       "│            ┆           ┆           ┆           ┆   ┆ MLR1,     ┆           ┆         ┆           │\n",
       "│            ┆           ┆           ┆           ┆   ┆ iso…      ┆           ┆         ┆           │\n",
       "└────────────┴───────────┴───────────┴───────────┴───┴───────────┴───────────┴─────────┴───────────┘"
      ]
     },
     "execution_count": 21,
     "metadata": {},
     "output_type": "execute_result"
    }
   ],
   "source": [
    "df"
   ]
  },
  {
   "cell_type": "code",
   "execution_count": null,
   "id": "bca1bae6-8bef-4642-b455-8a96758d11cc",
   "metadata": {},
   "outputs": [],
   "source": []
  }
 ],
 "metadata": {
  "kernelspec": {
   "display_name": "Python 3 (ipykernel)",
   "language": "python",
   "name": "python3"
  },
  "language_info": {
   "codemirror_mode": {
    "name": "ipython",
    "version": 3
   },
   "file_extension": ".py",
   "mimetype": "text/x-python",
   "name": "python",
   "nbconvert_exporter": "python",
   "pygments_lexer": "ipython3",
   "version": "3.12.9"
  }
 },
 "nbformat": 4,
 "nbformat_minor": 5
}
