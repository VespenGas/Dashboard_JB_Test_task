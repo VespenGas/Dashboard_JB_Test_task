{
 "cells": [
  {
   "cell_type": "code",
   "execution_count": 1,
   "id": "01f24bab-c157-4b9f-9171-2efdacc7d0d3",
   "metadata": {},
   "outputs": [],
   "source": [
    "import polars as pl\n",
    "import numpy as np"
   ]
  },
  {
   "cell_type": "code",
   "execution_count": 2,
   "id": "421fd883-0794-4448-a94b-d0842c6ac8ab",
   "metadata": {},
   "outputs": [],
   "source": [
    "df = pl.read_excel('NIHMS1635539-supplement-1635539_Sup_tab_4.xlsx', sheet_name='S4B limma results')"
   ]
  },
  {
   "cell_type": "code",
   "execution_count": 3,
   "id": "1e875c2b-9276-4eef-aaa8-a927afed55d1",
   "metadata": {},
   "outputs": [],
   "source": [
    "df[0, 0] = 'ProteinID'"
   ]
  },
  {
   "cell_type": "code",
   "execution_count": 4,
   "id": "0a8137a3-abe1-4080-8407-becae0096892",
   "metadata": {},
   "outputs": [],
   "source": [
    "df.columns = df.row(0)"
   ]
  },
  {
   "cell_type": "code",
   "execution_count": 5,
   "id": "e89ba477-937b-4928-84e4-c5c003f77f7a",
   "metadata": {},
   "outputs": [],
   "source": [
    "df = df[1:, :]"
   ]
  },
  {
   "cell_type": "code",
   "execution_count": 6,
   "id": "a4639336-f190-4464-9a76-f6cf834c607a",
   "metadata": {},
   "outputs": [],
   "source": [
    "for column in df.columns:\n",
    "    try:\n",
    "        df = df.with_columns(\n",
    "            [\n",
    "                pl.col(column).cast(pl.Float64, strict=True),\n",
    "            ]\n",
    "        )\n",
    "    except:\n",
    "        pass\n"
   ]
  },
  {
   "cell_type": "code",
   "execution_count": 7,
   "id": "5668f7a1-bbc0-4f41-8c31-28c50d470514",
   "metadata": {},
   "outputs": [],
   "source": [
    "df = df.with_columns(\n",
    "    -np.log10(pl.col('adj.P.Val')).alias('adj.P.Val_neglog')\n",
    ")"
   ]
  },
  {
   "cell_type": "code",
   "execution_count": 8,
   "id": "7df1e739-c06c-4eb2-8dc2-326de47fc32a",
   "metadata": {},
   "outputs": [],
   "source": [
    "df = df.filter(pl.col('adj.P.Val') != 0)"
   ]
  },
  {
   "cell_type": "code",
   "execution_count": 9,
   "id": "71273b10-e735-4713-9657-44164f19577d",
   "metadata": {},
   "outputs": [
    {
     "data": {
      "text/html": [
       "<div><style>\n",
       ".dataframe > thead > tr,\n",
       ".dataframe > tbody > tr {\n",
       "  text-align: right;\n",
       "  white-space: pre-wrap;\n",
       "}\n",
       "</style>\n",
       "<small>shape: (1_305, 12)</small><table border=\"1\" class=\"dataframe\"><thead><tr><th>ProteinID</th><th>logFC</th><th>AveExpr</th><th>t</th><th>P.Value</th><th>adj.P.Val</th><th>B</th><th>TargetFullName</th><th>Target</th><th>EntrezGeneSymbol</th><th>Type</th><th>adj.P.Val_neglog</th></tr><tr><td>str</td><td>f64</td><td>f64</td><td>f64</td><td>f64</td><td>f64</td><td>f64</td><td>str</td><td>str</td><td>str</td><td>str</td><td>f64</td></tr></thead><tbody><tr><td>&quot;SOST.13101.60.3&quot;</td><td>1.192067</td><td>9.638651</td><td>10.877659</td><td>1.3273e-13</td><td>1.7455e-10</td><td>20.398976</td><td>&quot;Sclerostin&quot;</td><td>&quot;SOST&quot;</td><td>&quot;SOST&quot;</td><td>&quot;Protein&quot;</td><td>9.75809</td></tr><tr><td>&quot;GDF15.4374.45.2&quot;</td><td>0.873791</td><td>6.868192</td><td>8.630583</td><td>9.9379e-11</td><td>6.5342e-8</td><td>14.261364</td><td>&quot;Growth/differentiation factor …</td><td>&quot;MIC-1&quot;</td><td>&quot;GDF15&quot;</td><td>&quot;Protein&quot;</td><td>7.18481</td></tr><tr><td>&quot;SELL.4831.4.2&quot;</td><td>-0.527906</td><td>9.836412</td><td>-8.139312</td><td>4.5807e-10</td><td>2.0079e-7</td><td>12.826296</td><td>&quot;L-Selectin&quot;</td><td>&quot;sL-Selectin&quot;</td><td>&quot;SELL&quot;</td><td>&quot;Protein&quot;</td><td>6.697268</td></tr><tr><td>&quot;ADAMTS5.3168.8.2&quot;</td><td>0.471337</td><td>6.194154</td><td>6.193626</td><td>2.3805e-7</td><td>0.000078</td><td>6.911531</td><td>&quot;A disintegrin and metalloprote…</td><td>&quot;ADAMTS-5&quot;</td><td>&quot;ADAMTS5&quot;</td><td>&quot;Protein&quot;</td><td>4.106465</td></tr><tr><td>&quot;RET.3220.40.2&quot;</td><td>-0.616166</td><td>8.096716</td><td>-6.121638</td><td>3.0104e-7</td><td>0.000079</td><td>6.688751</td><td>&quot;Proto-oncogene tyrosine-protei…</td><td>&quot;RET&quot;</td><td>&quot;RET&quot;</td><td>&quot;Protein&quot;</td><td>4.10142</td></tr><tr><td>&hellip;</td><td>&hellip;</td><td>&hellip;</td><td>&hellip;</td><td>&hellip;</td><td>&hellip;</td><td>&hellip;</td><td>&hellip;</td><td>&hellip;</td><td>&hellip;</td><td>&hellip;</td><td>&hellip;</td></tr><tr><td>&quot;MFGE8.4455.89.2&quot;</td><td>-0.000651</td><td>9.752709</td><td>-0.004228</td><td>0.996647</td><td>0.997504</td><td>-6.394864</td><td>&quot;Lactadherin&quot;</td><td>&quot;MFGM&quot;</td><td>&quot;MFGE8&quot;</td><td>&quot;Protein&quot;</td><td>0.001085</td></tr><tr><td>&quot;KIF23.5228.25.2&quot;</td><td>0.000572</td><td>6.917314</td><td>0.003971</td><td>0.996851</td><td>0.997504</td><td>-6.394865</td><td>&quot;Kinesin-like protein KIF23&quot;</td><td>&quot;KIF23&quot;</td><td>&quot;KIF23&quot;</td><td>&quot;Protein&quot;</td><td>0.001085</td></tr><tr><td>&quot;FER.4220.39.2&quot;</td><td>0.00053</td><td>4.864584</td><td>0.003346</td><td>0.997347</td><td>0.997504</td><td>-6.394868</td><td>&quot;Tyrosine-protein kinase Fer&quot;</td><td>&quot;FER&quot;</td><td>&quot;FER&quot;</td><td>&quot;Protein&quot;</td><td>0.001085</td></tr><tr><td>&quot;AKT2.5360.9.2&quot;</td><td>-0.000448</td><td>10.620285</td><td>-0.003154</td><td>0.997499</td><td>0.997504</td><td>-6.394868</td><td>&quot;RAC-beta serine/threonine-prot…</td><td>&quot;PKB beta&quot;</td><td>&quot;AKT2&quot;</td><td>&quot;Protein&quot;</td><td>0.001085</td></tr><tr><td>&quot;LCORL.4304.18.2&quot;</td><td>-0.00089</td><td>5.335262</td><td>-0.003148</td><td>0.997504</td><td>0.997504</td><td>-6.394868</td><td>&quot;Ligand-dependent nuclear recep…</td><td>&quot;transcription factor MLR1, iso…</td><td>&quot;LCORL&quot;</td><td>&quot;Protein&quot;</td><td>0.001085</td></tr></tbody></table></div>"
      ],
      "text/plain": [
       "shape: (1_305, 12)\n",
       "┌────────────┬───────────┬───────────┬───────────┬───┬───────────┬───────────┬─────────┬───────────┐\n",
       "│ ProteinID  ┆ logFC     ┆ AveExpr   ┆ t         ┆ … ┆ Target    ┆ EntrezGen ┆ Type    ┆ adj.P.Val │\n",
       "│ ---        ┆ ---       ┆ ---       ┆ ---       ┆   ┆ ---       ┆ eSymbol   ┆ ---     ┆ _neglog   │\n",
       "│ str        ┆ f64       ┆ f64       ┆ f64       ┆   ┆ str       ┆ ---       ┆ str     ┆ ---       │\n",
       "│            ┆           ┆           ┆           ┆   ┆           ┆ str       ┆         ┆ f64       │\n",
       "╞════════════╪═══════════╪═══════════╪═══════════╪═══╪═══════════╪═══════════╪═════════╪═══════════╡\n",
       "│ SOST.13101 ┆ 1.192067  ┆ 9.638651  ┆ 10.877659 ┆ … ┆ SOST      ┆ SOST      ┆ Protein ┆ 9.75809   │\n",
       "│ .60.3      ┆           ┆           ┆           ┆   ┆           ┆           ┆         ┆           │\n",
       "│ GDF15.4374 ┆ 0.873791  ┆ 6.868192  ┆ 8.630583  ┆ … ┆ MIC-1     ┆ GDF15     ┆ Protein ┆ 7.18481   │\n",
       "│ .45.2      ┆           ┆           ┆           ┆   ┆           ┆           ┆         ┆           │\n",
       "│ SELL.4831. ┆ -0.527906 ┆ 9.836412  ┆ -8.139312 ┆ … ┆ sL-Select ┆ SELL      ┆ Protein ┆ 6.697268  │\n",
       "│ 4.2        ┆           ┆           ┆           ┆   ┆ in        ┆           ┆         ┆           │\n",
       "│ ADAMTS5.31 ┆ 0.471337  ┆ 6.194154  ┆ 6.193626  ┆ … ┆ ADAMTS-5  ┆ ADAMTS5   ┆ Protein ┆ 4.106465  │\n",
       "│ 68.8.2     ┆           ┆           ┆           ┆   ┆           ┆           ┆         ┆           │\n",
       "│ RET.3220.4 ┆ -0.616166 ┆ 8.096716  ┆ -6.121638 ┆ … ┆ RET       ┆ RET       ┆ Protein ┆ 4.10142   │\n",
       "│ 0.2        ┆           ┆           ┆           ┆   ┆           ┆           ┆         ┆           │\n",
       "│ …          ┆ …         ┆ …         ┆ …         ┆ … ┆ …         ┆ …         ┆ …       ┆ …         │\n",
       "│ MFGE8.4455 ┆ -0.000651 ┆ 9.752709  ┆ -0.004228 ┆ … ┆ MFGM      ┆ MFGE8     ┆ Protein ┆ 0.001085  │\n",
       "│ .89.2      ┆           ┆           ┆           ┆   ┆           ┆           ┆         ┆           │\n",
       "│ KIF23.5228 ┆ 0.000572  ┆ 6.917314  ┆ 0.003971  ┆ … ┆ KIF23     ┆ KIF23     ┆ Protein ┆ 0.001085  │\n",
       "│ .25.2      ┆           ┆           ┆           ┆   ┆           ┆           ┆         ┆           │\n",
       "│ FER.4220.3 ┆ 0.00053   ┆ 4.864584  ┆ 0.003346  ┆ … ┆ FER       ┆ FER       ┆ Protein ┆ 0.001085  │\n",
       "│ 9.2        ┆           ┆           ┆           ┆   ┆           ┆           ┆         ┆           │\n",
       "│ AKT2.5360. ┆ -0.000448 ┆ 10.620285 ┆ -0.003154 ┆ … ┆ PKB beta  ┆ AKT2      ┆ Protein ┆ 0.001085  │\n",
       "│ 9.2        ┆           ┆           ┆           ┆   ┆           ┆           ┆         ┆           │\n",
       "│ LCORL.4304 ┆ -0.00089  ┆ 5.335262  ┆ -0.003148 ┆ … ┆ transcrip ┆ LCORL     ┆ Protein ┆ 0.001085  │\n",
       "│ .18.2      ┆           ┆           ┆           ┆   ┆ tion      ┆           ┆         ┆           │\n",
       "│            ┆           ┆           ┆           ┆   ┆ factor    ┆           ┆         ┆           │\n",
       "│            ┆           ┆           ┆           ┆   ┆ MLR1,     ┆           ┆         ┆           │\n",
       "│            ┆           ┆           ┆           ┆   ┆ iso…      ┆           ┆         ┆           │\n",
       "└────────────┴───────────┴───────────┴───────────┴───┴───────────┴───────────┴─────────┴───────────┘"
      ]
     },
     "execution_count": 9,
     "metadata": {},
     "output_type": "execute_result"
    }
   ],
   "source": [
    "df"
   ]
  },
  {
   "cell_type": "code",
   "execution_count": 10,
   "id": "d64e8137-2623-43f5-8ad7-1e7d355d9691",
   "metadata": {},
   "outputs": [],
   "source": [
    "df_expandable = pl.read_excel('NIHMS1635539-supplement-1635539_Sup_tab_4.xlsx', sheet_name='S4A values')"
   ]
  },
  {
   "cell_type": "code",
   "execution_count": 11,
   "id": "9478754b-ae59-4a08-a956-38c28a2edd68",
   "metadata": {},
   "outputs": [],
   "source": [
    "df_expandable[0, 0] = 'ProteinID'"
   ]
  },
  {
   "cell_type": "code",
   "execution_count": 12,
   "id": "e3001b34-f701-4ef5-a4df-24c2b14f52ee",
   "metadata": {},
   "outputs": [],
   "source": [
    "df_expandable.columns = df_expandable.row(0)"
   ]
  },
  {
   "cell_type": "code",
   "execution_count": 13,
   "id": "5d110292-5810-4ec2-8f20-67c2485a5ce2",
   "metadata": {},
   "outputs": [],
   "source": [
    "df_expandable = df_expandable[1:, :]"
   ]
  },
  {
   "cell_type": "code",
   "execution_count": 14,
   "id": "aa502580-afa3-4f3a-857b-e2252db1d046",
   "metadata": {},
   "outputs": [],
   "source": [
    "for column in df_expandable.columns:\n",
    "    try:\n",
    "        df_expandable = df_expandable.with_columns(\n",
    "            [\n",
    "                pl.col(column).cast(pl.Float64, strict=True),\n",
    "            ]\n",
    "        )\n",
    "    except:\n",
    "        pass"
   ]
  },
  {
   "cell_type": "code",
   "execution_count": 24,
   "id": "fa50618c-0278-4e64-b13a-948014b3301d",
   "metadata": {},
   "outputs": [
    {
     "data": {
      "text/plain": [
       "True"
      ]
     },
     "execution_count": 24,
     "metadata": {},
     "output_type": "execute_result"
    }
   ],
   "source": [
    "'ACP1.3858.5.1' in df_expandable['ProteinID']"
   ]
  },
  {
   "cell_type": "code",
   "execution_count": 21,
   "id": "ba887e63-8c81-4ed4-8cd9-737b5211c51c",
   "metadata": {},
   "outputs": [
    {
     "data": {
      "text/html": [
       "<div><style>\n",
       ".dataframe > thead > tr,\n",
       ".dataframe > tbody > tr {\n",
       "  text-align: right;\n",
       "  white-space: pre-wrap;\n",
       "}\n",
       "</style>\n",
       "<small>shape: (1_305, 12)</small><table border=\"1\" class=\"dataframe\"><thead><tr><th>ProteinID</th><th>logFC</th><th>AveExpr</th><th>t</th><th>P.Value</th><th>adj.P.Val</th><th>B</th><th>TargetFullName</th><th>Target</th><th>EntrezGeneSymbol</th><th>Type</th><th>adj.P.Val_neglog</th></tr><tr><td>str</td><td>f64</td><td>f64</td><td>f64</td><td>f64</td><td>f64</td><td>f64</td><td>str</td><td>str</td><td>str</td><td>str</td><td>f64</td></tr></thead><tbody><tr><td>&quot;SOST.13101.60.3&quot;</td><td>1.192067</td><td>9.638651</td><td>10.877659</td><td>1.3273e-13</td><td>1.7455e-10</td><td>20.398976</td><td>&quot;Sclerostin&quot;</td><td>&quot;SOST&quot;</td><td>&quot;SOST&quot;</td><td>&quot;Protein&quot;</td><td>9.75809</td></tr><tr><td>&quot;GDF15.4374.45.2&quot;</td><td>0.873791</td><td>6.868192</td><td>8.630583</td><td>9.9379e-11</td><td>6.5342e-8</td><td>14.261364</td><td>&quot;Growth/differentiation factor …</td><td>&quot;MIC-1&quot;</td><td>&quot;GDF15&quot;</td><td>&quot;Protein&quot;</td><td>7.18481</td></tr><tr><td>&quot;SELL.4831.4.2&quot;</td><td>-0.527906</td><td>9.836412</td><td>-8.139312</td><td>4.5807e-10</td><td>2.0079e-7</td><td>12.826296</td><td>&quot;L-Selectin&quot;</td><td>&quot;sL-Selectin&quot;</td><td>&quot;SELL&quot;</td><td>&quot;Protein&quot;</td><td>6.697268</td></tr><tr><td>&quot;ADAMTS5.3168.8.2&quot;</td><td>0.471337</td><td>6.194154</td><td>6.193626</td><td>2.3805e-7</td><td>0.000078</td><td>6.911531</td><td>&quot;A disintegrin and metalloprote…</td><td>&quot;ADAMTS-5&quot;</td><td>&quot;ADAMTS5&quot;</td><td>&quot;Protein&quot;</td><td>4.106465</td></tr><tr><td>&quot;RET.3220.40.2&quot;</td><td>-0.616166</td><td>8.096716</td><td>-6.121638</td><td>3.0104e-7</td><td>0.000079</td><td>6.688751</td><td>&quot;Proto-oncogene tyrosine-protei…</td><td>&quot;RET&quot;</td><td>&quot;RET&quot;</td><td>&quot;Protein&quot;</td><td>4.10142</td></tr><tr><td>&hellip;</td><td>&hellip;</td><td>&hellip;</td><td>&hellip;</td><td>&hellip;</td><td>&hellip;</td><td>&hellip;</td><td>&hellip;</td><td>&hellip;</td><td>&hellip;</td><td>&hellip;</td><td>&hellip;</td></tr><tr><td>&quot;MFGE8.4455.89.2&quot;</td><td>-0.000651</td><td>9.752709</td><td>-0.004228</td><td>0.996647</td><td>0.997504</td><td>-6.394864</td><td>&quot;Lactadherin&quot;</td><td>&quot;MFGM&quot;</td><td>&quot;MFGE8&quot;</td><td>&quot;Protein&quot;</td><td>0.001085</td></tr><tr><td>&quot;KIF23.5228.25.2&quot;</td><td>0.000572</td><td>6.917314</td><td>0.003971</td><td>0.996851</td><td>0.997504</td><td>-6.394865</td><td>&quot;Kinesin-like protein KIF23&quot;</td><td>&quot;KIF23&quot;</td><td>&quot;KIF23&quot;</td><td>&quot;Protein&quot;</td><td>0.001085</td></tr><tr><td>&quot;FER.4220.39.2&quot;</td><td>0.00053</td><td>4.864584</td><td>0.003346</td><td>0.997347</td><td>0.997504</td><td>-6.394868</td><td>&quot;Tyrosine-protein kinase Fer&quot;</td><td>&quot;FER&quot;</td><td>&quot;FER&quot;</td><td>&quot;Protein&quot;</td><td>0.001085</td></tr><tr><td>&quot;AKT2.5360.9.2&quot;</td><td>-0.000448</td><td>10.620285</td><td>-0.003154</td><td>0.997499</td><td>0.997504</td><td>-6.394868</td><td>&quot;RAC-beta serine/threonine-prot…</td><td>&quot;PKB beta&quot;</td><td>&quot;AKT2&quot;</td><td>&quot;Protein&quot;</td><td>0.001085</td></tr><tr><td>&quot;LCORL.4304.18.2&quot;</td><td>-0.00089</td><td>5.335262</td><td>-0.003148</td><td>0.997504</td><td>0.997504</td><td>-6.394868</td><td>&quot;Ligand-dependent nuclear recep…</td><td>&quot;transcription factor MLR1, iso…</td><td>&quot;LCORL&quot;</td><td>&quot;Protein&quot;</td><td>0.001085</td></tr></tbody></table></div>"
      ],
      "text/plain": [
       "shape: (1_305, 12)\n",
       "┌────────────┬───────────┬───────────┬───────────┬───┬───────────┬───────────┬─────────┬───────────┐\n",
       "│ ProteinID  ┆ logFC     ┆ AveExpr   ┆ t         ┆ … ┆ Target    ┆ EntrezGen ┆ Type    ┆ adj.P.Val │\n",
       "│ ---        ┆ ---       ┆ ---       ┆ ---       ┆   ┆ ---       ┆ eSymbol   ┆ ---     ┆ _neglog   │\n",
       "│ str        ┆ f64       ┆ f64       ┆ f64       ┆   ┆ str       ┆ ---       ┆ str     ┆ ---       │\n",
       "│            ┆           ┆           ┆           ┆   ┆           ┆ str       ┆         ┆ f64       │\n",
       "╞════════════╪═══════════╪═══════════╪═══════════╪═══╪═══════════╪═══════════╪═════════╪═══════════╡\n",
       "│ SOST.13101 ┆ 1.192067  ┆ 9.638651  ┆ 10.877659 ┆ … ┆ SOST      ┆ SOST      ┆ Protein ┆ 9.75809   │\n",
       "│ .60.3      ┆           ┆           ┆           ┆   ┆           ┆           ┆         ┆           │\n",
       "│ GDF15.4374 ┆ 0.873791  ┆ 6.868192  ┆ 8.630583  ┆ … ┆ MIC-1     ┆ GDF15     ┆ Protein ┆ 7.18481   │\n",
       "│ .45.2      ┆           ┆           ┆           ┆   ┆           ┆           ┆         ┆           │\n",
       "│ SELL.4831. ┆ -0.527906 ┆ 9.836412  ┆ -8.139312 ┆ … ┆ sL-Select ┆ SELL      ┆ Protein ┆ 6.697268  │\n",
       "│ 4.2        ┆           ┆           ┆           ┆   ┆ in        ┆           ┆         ┆           │\n",
       "│ ADAMTS5.31 ┆ 0.471337  ┆ 6.194154  ┆ 6.193626  ┆ … ┆ ADAMTS-5  ┆ ADAMTS5   ┆ Protein ┆ 4.106465  │\n",
       "│ 68.8.2     ┆           ┆           ┆           ┆   ┆           ┆           ┆         ┆           │\n",
       "│ RET.3220.4 ┆ -0.616166 ┆ 8.096716  ┆ -6.121638 ┆ … ┆ RET       ┆ RET       ┆ Protein ┆ 4.10142   │\n",
       "│ 0.2        ┆           ┆           ┆           ┆   ┆           ┆           ┆         ┆           │\n",
       "│ …          ┆ …         ┆ …         ┆ …         ┆ … ┆ …         ┆ …         ┆ …       ┆ …         │\n",
       "│ MFGE8.4455 ┆ -0.000651 ┆ 9.752709  ┆ -0.004228 ┆ … ┆ MFGM      ┆ MFGE8     ┆ Protein ┆ 0.001085  │\n",
       "│ .89.2      ┆           ┆           ┆           ┆   ┆           ┆           ┆         ┆           │\n",
       "│ KIF23.5228 ┆ 0.000572  ┆ 6.917314  ┆ 0.003971  ┆ … ┆ KIF23     ┆ KIF23     ┆ Protein ┆ 0.001085  │\n",
       "│ .25.2      ┆           ┆           ┆           ┆   ┆           ┆           ┆         ┆           │\n",
       "│ FER.4220.3 ┆ 0.00053   ┆ 4.864584  ┆ 0.003346  ┆ … ┆ FER       ┆ FER       ┆ Protein ┆ 0.001085  │\n",
       "│ 9.2        ┆           ┆           ┆           ┆   ┆           ┆           ┆         ┆           │\n",
       "│ AKT2.5360. ┆ -0.000448 ┆ 10.620285 ┆ -0.003154 ┆ … ┆ PKB beta  ┆ AKT2      ┆ Protein ┆ 0.001085  │\n",
       "│ 9.2        ┆           ┆           ┆           ┆   ┆           ┆           ┆         ┆           │\n",
       "│ LCORL.4304 ┆ -0.00089  ┆ 5.335262  ┆ -0.003148 ┆ … ┆ transcrip ┆ LCORL     ┆ Protein ┆ 0.001085  │\n",
       "│ .18.2      ┆           ┆           ┆           ┆   ┆ tion      ┆           ┆         ┆           │\n",
       "│            ┆           ┆           ┆           ┆   ┆ factor    ┆           ┆         ┆           │\n",
       "│            ┆           ┆           ┆           ┆   ┆ MLR1,     ┆           ┆         ┆           │\n",
       "│            ┆           ┆           ┆           ┆   ┆ iso…      ┆           ┆         ┆           │\n",
       "└────────────┴───────────┴───────────┴───────────┴───┴───────────┴───────────┴─────────┴───────────┘"
      ]
     },
     "execution_count": 21,
     "metadata": {},
     "output_type": "execute_result"
    }
   ],
   "source": [
    "df"
   ]
  },
  {
   "cell_type": "code",
   "execution_count": 27,
   "id": "bca1bae6-8bef-4642-b455-8a96758d11cc",
   "metadata": {},
   "outputs": [
    {
     "data": {
      "text/plain": [
       "18"
      ]
     },
     "execution_count": 27,
     "metadata": {},
     "output_type": "execute_result"
    }
   ],
   "source": [
    "df_expandable.columns.index('Set002.H4.OD12.dup')"
   ]
  },
  {
   "cell_type": "code",
   "execution_count": null,
   "id": "24a9ad4c-cd59-483c-85d3-32a32c46717e",
   "metadata": {},
   "outputs": [],
   "source": []
  }
 ],
 "metadata": {
  "kernelspec": {
   "display_name": "Python 3 (ipykernel)",
   "language": "python",
   "name": "python3"
  },
  "language_info": {
   "codemirror_mode": {
    "name": "ipython",
    "version": 3
   },
   "file_extension": ".py",
   "mimetype": "text/x-python",
   "name": "python",
   "nbconvert_exporter": "python",
   "pygments_lexer": "ipython3",
   "version": "3.12.9"
  }
 },
 "nbformat": 4,
 "nbformat_minor": 5
}
