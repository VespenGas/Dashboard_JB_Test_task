{
 "cells": [
  {
   "cell_type": "code",
   "execution_count": 1,
   "id": "01f24bab-c157-4b9f-9171-2efdacc7d0d3",
   "metadata": {},
   "outputs": [],
   "source": [
    "import polars as pl"
   ]
  },
  {
   "cell_type": "code",
   "execution_count": 2,
   "id": "421fd883-0794-4448-a94b-d0842c6ac8ab",
   "metadata": {},
   "outputs": [],
   "source": [
    "df = pl.read_excel('NIHMS1635539-supplement-1635539_Sup_tab_4.xlsx', sheet_name='S4B limma results')"
   ]
  },
  {
   "cell_type": "code",
   "execution_count": 4,
   "id": "1e875c2b-9276-4eef-aaa8-a927afed55d1",
   "metadata": {},
   "outputs": [],
   "source": [
    "df[0, 0] = 'ProteinID'"
   ]
  },
  {
   "cell_type": "code",
   "execution_count": 5,
   "id": "0a8137a3-abe1-4080-8407-becae0096892",
   "metadata": {},
   "outputs": [],
   "source": [
    "df.columns = df[0, :].to_numpy()[0]"
   ]
  },
  {
   "cell_type": "code",
   "execution_count": 6,
   "id": "cbb7643a-52dc-480b-b847-abd516b55b0e",
   "metadata": {},
   "outputs": [
    {
     "data": {
      "text/html": [
       "<div><style>\n",
       ".dataframe > thead > tr,\n",
       ".dataframe > tbody > tr {\n",
       "  text-align: right;\n",
       "  white-space: pre-wrap;\n",
       "}\n",
       "</style>\n",
       "<small>shape: (1_306, 11)</small><table border=\"1\" class=\"dataframe\"><thead><tr><th>ProteinID</th><th>logFC</th><th>AveExpr</th><th>t</th><th>P.Value</th><th>adj.P.Val</th><th>B</th><th>TargetFullName</th><th>Target</th><th>EntrezGeneSymbol</th><th>Type</th></tr><tr><td>str</td><td>str</td><td>str</td><td>str</td><td>str</td><td>str</td><td>str</td><td>str</td><td>str</td><td>str</td><td>str</td></tr></thead><tbody><tr><td>&quot;ProteinID&quot;</td><td>&quot;logFC&quot;</td><td>&quot;AveExpr&quot;</td><td>&quot;t&quot;</td><td>&quot;P.Value&quot;</td><td>&quot;adj.P.Val&quot;</td><td>&quot;B&quot;</td><td>&quot;TargetFullName&quot;</td><td>&quot;Target&quot;</td><td>&quot;EntrezGeneSymbol&quot;</td><td>&quot;Type&quot;</td></tr><tr><td>&quot;SOST.13101.60.3&quot;</td><td>&quot;1.1920666437473133&quot;</td><td>&quot;9.638650894042&quot;</td><td>&quot;10.877659412865045&quot;</td><td>&quot;1.3273448665381518e-13&quot;</td><td>&quot;1.7454584994976695e-10&quot;</td><td>&quot;20.398976475523156&quot;</td><td>&quot;Sclerostin&quot;</td><td>&quot;SOST&quot;</td><td>&quot;SOST&quot;</td><td>&quot;Protein&quot;</td></tr><tr><td>&quot;GDF15.4374.45.2&quot;</td><td>&quot;0.8737907642484315&quot;</td><td>&quot;6.868191933346531&quot;</td><td>&quot;8.630582960616593&quot;</td><td>&quot;9.937896765657485e-11&quot;</td><td>&quot;6.534167123419797e-8&quot;</td><td>&quot;14.261363543198526&quot;</td><td>&quot;Growth/differentiation factor …</td><td>&quot;MIC-1&quot;</td><td>&quot;GDF15&quot;</td><td>&quot;Protein&quot;</td></tr><tr><td>&quot;SELL.4831.4.2&quot;</td><td>&quot;-0.5279063843626233&quot;</td><td>&quot;9.836411611962518&quot;</td><td>&quot;-8.139311767724369&quot;</td><td>&quot;4.580654606113164e-10&quot;</td><td>&quot;2.00785360234627e-7&quot;</td><td>&quot;12.826296426902038&quot;</td><td>&quot;L-Selectin&quot;</td><td>&quot;sL-Selectin&quot;</td><td>&quot;SELL&quot;</td><td>&quot;Protein&quot;</td></tr><tr><td>&quot;ADAMTS5.3168.8.2&quot;</td><td>&quot;0.4713368906838075&quot;</td><td>&quot;6.194153555965578&quot;</td><td>&quot;6.193625555418582&quot;</td><td>&quot;2.380505563829659e-7&quot;</td><td>&quot;7.825912041090004e-5&quot;</td><td>&quot;6.911531312605359&quot;</td><td>&quot;A disintegrin and metalloprote…</td><td>&quot;ADAMTS-5&quot;</td><td>&quot;ADAMTS5&quot;</td><td>&quot;Protein&quot;</td></tr><tr><td>&hellip;</td><td>&hellip;</td><td>&hellip;</td><td>&hellip;</td><td>&hellip;</td><td>&hellip;</td><td>&hellip;</td><td>&hellip;</td><td>&hellip;</td><td>&hellip;</td><td>&hellip;</td></tr><tr><td>&quot;MFGE8.4455.89.2&quot;</td><td>&quot;-6.507866735552036e-4&quot;</td><td>&quot;9.752708617720815&quot;</td><td>&quot;-0.0042277689684209006&quot;</td><td>&quot;0.9966474382302776&quot;</td><td>&quot;0.9975038091404569&quot;</td><td>&quot;-6.3948642423585635&quot;</td><td>&quot;Lactadherin&quot;</td><td>&quot;MFGM&quot;</td><td>&quot;MFGE8&quot;</td><td>&quot;Protein&quot;</td></tr><tr><td>&quot;KIF23.5228.25.2&quot;</td><td>&quot;5.71806460839898e-4&quot;</td><td>&quot;6.91731431289773&quot;</td><td>&quot;0.003970599568229479&quot;</td><td>&quot;0.9968513688407339&quot;</td><td>&quot;0.9975038091404569&quot;</td><td>&quot;-6.394865292972525&quot;</td><td>&quot;Kinesin-like protein KIF23&quot;</td><td>&quot;KIF23&quot;</td><td>&quot;KIF23&quot;</td><td>&quot;Protein&quot;</td></tr><tr><td>&quot;FER.4220.39.2&quot;</td><td>&quot;5.296264214902527e-4&quot;</td><td>&quot;4.864584397953884&quot;</td><td>&quot;0.0033459432840358353&quot;</td><td>&quot;0.9973467106610371&quot;</td><td>&quot;0.9975038091404569&quot;</td><td>&quot;-6.39486757039453&quot;</td><td>&quot;Tyrosine-protein kinase Fer&quot;</td><td>&quot;FER&quot;</td><td>&quot;FER&quot;</td><td>&quot;Protein&quot;</td></tr><tr><td>&quot;AKT2.5360.9.2&quot;</td><td>&quot;-4.4750602984655217e-4&quot;</td><td>&quot;10.620285361729417&quot;</td><td>&quot;-0.0031544634958614046&quot;</td><td>&quot;0.9974985511013617&quot;</td><td>&quot;0.9975038091404569&quot;</td><td>&quot;-6.394868190634834&quot;</td><td>&quot;RAC-beta serine/threonine-prot…</td><td>&quot;PKB beta&quot;</td><td>&quot;AKT2&quot;</td><td>&quot;Protein&quot;</td></tr><tr><td>&quot;LCORL.4304.18.2&quot;</td><td>&quot;-8.895228538662412e-4&quot;</td><td>&quot;5.335262496288106&quot;</td><td>&quot;-0.003147832799313074&quot;</td><td>&quot;0.9975038091404569&quot;</td><td>&quot;0.9975038091404569&quot;</td><td>&quot;-6.394868211458368&quot;</td><td>&quot;Ligand-dependent nuclear recep…</td><td>&quot;transcription factor MLR1, iso…</td><td>&quot;LCORL&quot;</td><td>&quot;Protein&quot;</td></tr></tbody></table></div>"
      ],
      "text/plain": [
       "shape: (1_306, 11)\n",
       "┌────────────┬───────────┬───────────┬───────────┬───┬───────────┬───────────┬───────────┬─────────┐\n",
       "│ ProteinID  ┆ logFC     ┆ AveExpr   ┆ t         ┆ … ┆ TargetFul ┆ Target    ┆ EntrezGen ┆ Type    │\n",
       "│ ---        ┆ ---       ┆ ---       ┆ ---       ┆   ┆ lName     ┆ ---       ┆ eSymbol   ┆ ---     │\n",
       "│ str        ┆ str       ┆ str       ┆ str       ┆   ┆ ---       ┆ str       ┆ ---       ┆ str     │\n",
       "│            ┆           ┆           ┆           ┆   ┆ str       ┆           ┆ str       ┆         │\n",
       "╞════════════╪═══════════╪═══════════╪═══════════╪═══╪═══════════╪═══════════╪═══════════╪═════════╡\n",
       "│ ProteinID  ┆ logFC     ┆ AveExpr   ┆ t         ┆ … ┆ TargetFul ┆ Target    ┆ EntrezGen ┆ Type    │\n",
       "│            ┆           ┆           ┆           ┆   ┆ lName     ┆           ┆ eSymbol   ┆         │\n",
       "│ SOST.13101 ┆ 1.1920666 ┆ 9.6386508 ┆ 10.877659 ┆ … ┆ Sclerosti ┆ SOST      ┆ SOST      ┆ Protein │\n",
       "│ .60.3      ┆ 437473133 ┆ 94042     ┆ 412865045 ┆   ┆ n         ┆           ┆           ┆         │\n",
       "│ GDF15.4374 ┆ 0.8737907 ┆ 6.8681919 ┆ 8.6305829 ┆ … ┆ Growth/di ┆ MIC-1     ┆ GDF15     ┆ Protein │\n",
       "│ .45.2      ┆ 642484315 ┆ 33346531  ┆ 60616593  ┆   ┆ fferentia ┆           ┆           ┆         │\n",
       "│            ┆           ┆           ┆           ┆   ┆ tion      ┆           ┆           ┆         │\n",
       "│            ┆           ┆           ┆           ┆   ┆ factor …  ┆           ┆           ┆         │\n",
       "│ SELL.4831. ┆ -0.527906 ┆ 9.8364116 ┆ -8.139311 ┆ … ┆ L-Selecti ┆ sL-Select ┆ SELL      ┆ Protein │\n",
       "│ 4.2        ┆ 384362623 ┆ 11962518  ┆ 767724369 ┆   ┆ n         ┆ in        ┆           ┆         │\n",
       "│            ┆ 3         ┆           ┆           ┆   ┆           ┆           ┆           ┆         │\n",
       "│ ADAMTS5.31 ┆ 0.4713368 ┆ 6.1941535 ┆ 6.1936255 ┆ … ┆ A disinte ┆ ADAMTS-5  ┆ ADAMTS5   ┆ Protein │\n",
       "│ 68.8.2     ┆ 906838075 ┆ 55965578  ┆ 55418582  ┆   ┆ grin and  ┆           ┆           ┆         │\n",
       "│            ┆           ┆           ┆           ┆   ┆ metallopr ┆           ┆           ┆         │\n",
       "│            ┆           ┆           ┆           ┆   ┆ ote…      ┆           ┆           ┆         │\n",
       "│ …          ┆ …         ┆ …         ┆ …         ┆ … ┆ …         ┆ …         ┆ …         ┆ …       │\n",
       "│ MFGE8.4455 ┆ -6.507866 ┆ 9.7527086 ┆ -0.004227 ┆ … ┆ Lactadher ┆ MFGM      ┆ MFGE8     ┆ Protein │\n",
       "│ .89.2      ┆ 735552036 ┆ 17720815  ┆ 768968420 ┆   ┆ in        ┆           ┆           ┆         │\n",
       "│            ┆ e-4       ┆           ┆ 9006      ┆   ┆           ┆           ┆           ┆         │\n",
       "│ KIF23.5228 ┆ 5.7180646 ┆ 6.9173143 ┆ 0.0039705 ┆ … ┆ Kinesin-l ┆ KIF23     ┆ KIF23     ┆ Protein │\n",
       "│ .25.2      ┆ 0839898e- ┆ 1289773   ┆ 995682294 ┆   ┆ ike       ┆           ┆           ┆         │\n",
       "│            ┆ 4         ┆           ┆ 79        ┆   ┆ protein   ┆           ┆           ┆         │\n",
       "│            ┆           ┆           ┆           ┆   ┆ KIF23     ┆           ┆           ┆         │\n",
       "│ FER.4220.3 ┆ 5.2962642 ┆ 4.8645843 ┆ 0.0033459 ┆ … ┆ Tyrosine- ┆ FER       ┆ FER       ┆ Protein │\n",
       "│ 9.2        ┆ 14902527e ┆ 97953884  ┆ 432840358 ┆   ┆ protein   ┆           ┆           ┆         │\n",
       "│            ┆ -4        ┆           ┆ 353       ┆   ┆ kinase    ┆           ┆           ┆         │\n",
       "│            ┆           ┆           ┆           ┆   ┆ Fer       ┆           ┆           ┆         │\n",
       "│ AKT2.5360. ┆ -4.475060 ┆ 10.620285 ┆ -0.003154 ┆ … ┆ RAC-beta  ┆ PKB beta  ┆ AKT2      ┆ Protein │\n",
       "│ 9.2        ┆ 298465521 ┆ 361729417 ┆ 463495861 ┆   ┆ serine/th ┆           ┆           ┆         │\n",
       "│            ┆ 7e-4      ┆           ┆ 4046      ┆   ┆ reonine-p ┆           ┆           ┆         │\n",
       "│            ┆           ┆           ┆           ┆   ┆ rot…      ┆           ┆           ┆         │\n",
       "│ LCORL.4304 ┆ -8.895228 ┆ 5.3352624 ┆ -0.003147 ┆ … ┆ Ligand-de ┆ transcrip ┆ LCORL     ┆ Protein │\n",
       "│ .18.2      ┆ 538662412 ┆ 96288106  ┆ 832799313 ┆   ┆ pendent   ┆ tion      ┆           ┆         │\n",
       "│            ┆ e-4       ┆           ┆ 074       ┆   ┆ nuclear   ┆ factor    ┆           ┆         │\n",
       "│            ┆           ┆           ┆           ┆   ┆ recep…    ┆ MLR1,     ┆           ┆         │\n",
       "│            ┆           ┆           ┆           ┆   ┆           ┆ iso…      ┆           ┆         │\n",
       "└────────────┴───────────┴───────────┴───────────┴───┴───────────┴───────────┴───────────┴─────────┘"
      ]
     },
     "execution_count": 6,
     "metadata": {},
     "output_type": "execute_result"
    }
   ],
   "source": [
    "df"
   ]
  },
  {
   "cell_type": "code",
   "execution_count": 7,
   "id": "e89ba477-937b-4928-84e4-c5c003f77f7a",
   "metadata": {},
   "outputs": [],
   "source": [
    "df = df[1:, :]"
   ]
  },
  {
   "cell_type": "code",
   "execution_count": 8,
   "id": "a4639336-f190-4464-9a76-f6cf834c607a",
   "metadata": {},
   "outputs": [
    {
     "data": {
      "text/html": [
       "<div><style>\n",
       ".dataframe > thead > tr,\n",
       ".dataframe > tbody > tr {\n",
       "  text-align: right;\n",
       "  white-space: pre-wrap;\n",
       "}\n",
       "</style>\n",
       "<small>shape: (1_305, 11)</small><table border=\"1\" class=\"dataframe\"><thead><tr><th>ProteinID</th><th>logFC</th><th>AveExpr</th><th>t</th><th>P.Value</th><th>adj.P.Val</th><th>B</th><th>TargetFullName</th><th>Target</th><th>EntrezGeneSymbol</th><th>Type</th></tr><tr><td>str</td><td>f64</td><td>f64</td><td>f64</td><td>f64</td><td>f64</td><td>f64</td><td>str</td><td>str</td><td>str</td><td>str</td></tr></thead><tbody><tr><td>&quot;SOST.13101.60.3&quot;</td><td>1.192067</td><td>9.638651</td><td>10.877659</td><td>1.3273e-13</td><td>1.7455e-10</td><td>20.398976</td><td>&quot;Sclerostin&quot;</td><td>&quot;SOST&quot;</td><td>&quot;SOST&quot;</td><td>&quot;Protein&quot;</td></tr><tr><td>&quot;GDF15.4374.45.2&quot;</td><td>0.873791</td><td>6.868192</td><td>8.630583</td><td>9.9379e-11</td><td>6.5342e-8</td><td>14.261364</td><td>&quot;Growth/differentiation factor …</td><td>&quot;MIC-1&quot;</td><td>&quot;GDF15&quot;</td><td>&quot;Protein&quot;</td></tr><tr><td>&quot;SELL.4831.4.2&quot;</td><td>-0.527906</td><td>9.836412</td><td>-8.139312</td><td>4.5807e-10</td><td>2.0079e-7</td><td>12.826296</td><td>&quot;L-Selectin&quot;</td><td>&quot;sL-Selectin&quot;</td><td>&quot;SELL&quot;</td><td>&quot;Protein&quot;</td></tr><tr><td>&quot;ADAMTS5.3168.8.2&quot;</td><td>0.471337</td><td>6.194154</td><td>6.193626</td><td>2.3805e-7</td><td>0.000078</td><td>6.911531</td><td>&quot;A disintegrin and metalloprote…</td><td>&quot;ADAMTS-5&quot;</td><td>&quot;ADAMTS5&quot;</td><td>&quot;Protein&quot;</td></tr><tr><td>&quot;RET.3220.40.2&quot;</td><td>-0.616166</td><td>8.096716</td><td>-6.121638</td><td>3.0104e-7</td><td>0.000079</td><td>6.688751</td><td>&quot;Proto-oncogene tyrosine-protei…</td><td>&quot;RET&quot;</td><td>&quot;RET&quot;</td><td>&quot;Protein&quot;</td></tr><tr><td>&hellip;</td><td>&hellip;</td><td>&hellip;</td><td>&hellip;</td><td>&hellip;</td><td>&hellip;</td><td>&hellip;</td><td>&hellip;</td><td>&hellip;</td><td>&hellip;</td><td>&hellip;</td></tr><tr><td>&quot;MFGE8.4455.89.2&quot;</td><td>-0.000651</td><td>9.752709</td><td>-0.004228</td><td>0.996647</td><td>0.997504</td><td>-6.394864</td><td>&quot;Lactadherin&quot;</td><td>&quot;MFGM&quot;</td><td>&quot;MFGE8&quot;</td><td>&quot;Protein&quot;</td></tr><tr><td>&quot;KIF23.5228.25.2&quot;</td><td>0.000572</td><td>6.917314</td><td>0.003971</td><td>0.996851</td><td>0.997504</td><td>-6.394865</td><td>&quot;Kinesin-like protein KIF23&quot;</td><td>&quot;KIF23&quot;</td><td>&quot;KIF23&quot;</td><td>&quot;Protein&quot;</td></tr><tr><td>&quot;FER.4220.39.2&quot;</td><td>0.00053</td><td>4.864584</td><td>0.003346</td><td>0.997347</td><td>0.997504</td><td>-6.394868</td><td>&quot;Tyrosine-protein kinase Fer&quot;</td><td>&quot;FER&quot;</td><td>&quot;FER&quot;</td><td>&quot;Protein&quot;</td></tr><tr><td>&quot;AKT2.5360.9.2&quot;</td><td>-0.000448</td><td>10.620285</td><td>-0.003154</td><td>0.997499</td><td>0.997504</td><td>-6.394868</td><td>&quot;RAC-beta serine/threonine-prot…</td><td>&quot;PKB beta&quot;</td><td>&quot;AKT2&quot;</td><td>&quot;Protein&quot;</td></tr><tr><td>&quot;LCORL.4304.18.2&quot;</td><td>-0.00089</td><td>5.335262</td><td>-0.003148</td><td>0.997504</td><td>0.997504</td><td>-6.394868</td><td>&quot;Ligand-dependent nuclear recep…</td><td>&quot;transcription factor MLR1, iso…</td><td>&quot;LCORL&quot;</td><td>&quot;Protein&quot;</td></tr></tbody></table></div>"
      ],
      "text/plain": [
       "shape: (1_305, 11)\n",
       "┌────────────┬───────────┬───────────┬───────────┬───┬───────────┬───────────┬───────────┬─────────┐\n",
       "│ ProteinID  ┆ logFC     ┆ AveExpr   ┆ t         ┆ … ┆ TargetFul ┆ Target    ┆ EntrezGen ┆ Type    │\n",
       "│ ---        ┆ ---       ┆ ---       ┆ ---       ┆   ┆ lName     ┆ ---       ┆ eSymbol   ┆ ---     │\n",
       "│ str        ┆ f64       ┆ f64       ┆ f64       ┆   ┆ ---       ┆ str       ┆ ---       ┆ str     │\n",
       "│            ┆           ┆           ┆           ┆   ┆ str       ┆           ┆ str       ┆         │\n",
       "╞════════════╪═══════════╪═══════════╪═══════════╪═══╪═══════════╪═══════════╪═══════════╪═════════╡\n",
       "│ SOST.13101 ┆ 1.192067  ┆ 9.638651  ┆ 10.877659 ┆ … ┆ Sclerosti ┆ SOST      ┆ SOST      ┆ Protein │\n",
       "│ .60.3      ┆           ┆           ┆           ┆   ┆ n         ┆           ┆           ┆         │\n",
       "│ GDF15.4374 ┆ 0.873791  ┆ 6.868192  ┆ 8.630583  ┆ … ┆ Growth/di ┆ MIC-1     ┆ GDF15     ┆ Protein │\n",
       "│ .45.2      ┆           ┆           ┆           ┆   ┆ fferentia ┆           ┆           ┆         │\n",
       "│            ┆           ┆           ┆           ┆   ┆ tion      ┆           ┆           ┆         │\n",
       "│            ┆           ┆           ┆           ┆   ┆ factor …  ┆           ┆           ┆         │\n",
       "│ SELL.4831. ┆ -0.527906 ┆ 9.836412  ┆ -8.139312 ┆ … ┆ L-Selecti ┆ sL-Select ┆ SELL      ┆ Protein │\n",
       "│ 4.2        ┆           ┆           ┆           ┆   ┆ n         ┆ in        ┆           ┆         │\n",
       "│ ADAMTS5.31 ┆ 0.471337  ┆ 6.194154  ┆ 6.193626  ┆ … ┆ A disinte ┆ ADAMTS-5  ┆ ADAMTS5   ┆ Protein │\n",
       "│ 68.8.2     ┆           ┆           ┆           ┆   ┆ grin and  ┆           ┆           ┆         │\n",
       "│            ┆           ┆           ┆           ┆   ┆ metallopr ┆           ┆           ┆         │\n",
       "│            ┆           ┆           ┆           ┆   ┆ ote…      ┆           ┆           ┆         │\n",
       "│ RET.3220.4 ┆ -0.616166 ┆ 8.096716  ┆ -6.121638 ┆ … ┆ Proto-onc ┆ RET       ┆ RET       ┆ Protein │\n",
       "│ 0.2        ┆           ┆           ┆           ┆   ┆ ogene tyr ┆           ┆           ┆         │\n",
       "│            ┆           ┆           ┆           ┆   ┆ osine-pro ┆           ┆           ┆         │\n",
       "│            ┆           ┆           ┆           ┆   ┆ tei…      ┆           ┆           ┆         │\n",
       "│ …          ┆ …         ┆ …         ┆ …         ┆ … ┆ …         ┆ …         ┆ …         ┆ …       │\n",
       "│ MFGE8.4455 ┆ -0.000651 ┆ 9.752709  ┆ -0.004228 ┆ … ┆ Lactadher ┆ MFGM      ┆ MFGE8     ┆ Protein │\n",
       "│ .89.2      ┆           ┆           ┆           ┆   ┆ in        ┆           ┆           ┆         │\n",
       "│ KIF23.5228 ┆ 0.000572  ┆ 6.917314  ┆ 0.003971  ┆ … ┆ Kinesin-l ┆ KIF23     ┆ KIF23     ┆ Protein │\n",
       "│ .25.2      ┆           ┆           ┆           ┆   ┆ ike       ┆           ┆           ┆         │\n",
       "│            ┆           ┆           ┆           ┆   ┆ protein   ┆           ┆           ┆         │\n",
       "│            ┆           ┆           ┆           ┆   ┆ KIF23     ┆           ┆           ┆         │\n",
       "│ FER.4220.3 ┆ 0.00053   ┆ 4.864584  ┆ 0.003346  ┆ … ┆ Tyrosine- ┆ FER       ┆ FER       ┆ Protein │\n",
       "│ 9.2        ┆           ┆           ┆           ┆   ┆ protein   ┆           ┆           ┆         │\n",
       "│            ┆           ┆           ┆           ┆   ┆ kinase    ┆           ┆           ┆         │\n",
       "│            ┆           ┆           ┆           ┆   ┆ Fer       ┆           ┆           ┆         │\n",
       "│ AKT2.5360. ┆ -0.000448 ┆ 10.620285 ┆ -0.003154 ┆ … ┆ RAC-beta  ┆ PKB beta  ┆ AKT2      ┆ Protein │\n",
       "│ 9.2        ┆           ┆           ┆           ┆   ┆ serine/th ┆           ┆           ┆         │\n",
       "│            ┆           ┆           ┆           ┆   ┆ reonine-p ┆           ┆           ┆         │\n",
       "│            ┆           ┆           ┆           ┆   ┆ rot…      ┆           ┆           ┆         │\n",
       "│ LCORL.4304 ┆ -0.00089  ┆ 5.335262  ┆ -0.003148 ┆ … ┆ Ligand-de ┆ transcrip ┆ LCORL     ┆ Protein │\n",
       "│ .18.2      ┆           ┆           ┆           ┆   ┆ pendent   ┆ tion      ┆           ┆         │\n",
       "│            ┆           ┆           ┆           ┆   ┆ nuclear   ┆ factor    ┆           ┆         │\n",
       "│            ┆           ┆           ┆           ┆   ┆ recep…    ┆ MLR1,     ┆           ┆         │\n",
       "│            ┆           ┆           ┆           ┆   ┆           ┆ iso…      ┆           ┆         │\n",
       "└────────────┴───────────┴───────────┴───────────┴───┴───────────┴───────────┴───────────┴─────────┘"
      ]
     },
     "execution_count": 8,
     "metadata": {},
     "output_type": "execute_result"
    }
   ],
   "source": [
    "for column in df.columns:\n",
    "    try:\n",
    "        df = df.with_columns(\n",
    "            [\n",
    "                pl.col(column).cast(pl.Float64, strict=True),\n",
    "            ]\n",
    "        )\n",
    "    except:\n",
    "        pass\n",
    "df"
   ]
  },
  {
   "cell_type": "code",
   "execution_count": null,
   "id": "7df1e739-c06c-4eb2-8dc2-326de47fc32a",
   "metadata": {},
   "outputs": [],
   "source": []
  }
 ],
 "metadata": {
  "kernelspec": {
   "display_name": "Python 3 (ipykernel)",
   "language": "python",
   "name": "python3"
  },
  "language_info": {
   "codemirror_mode": {
    "name": "ipython",
    "version": 3
   },
   "file_extension": ".py",
   "mimetype": "text/x-python",
   "name": "python",
   "nbconvert_exporter": "python",
   "pygments_lexer": "ipython3",
   "version": "3.12.9"
  }
 },
 "nbformat": 4,
 "nbformat_minor": 5
}
